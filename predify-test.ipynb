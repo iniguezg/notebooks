{
 "cells": [
  {
   "cell_type": "markdown",
   "metadata": {},
   "source": [
    "<img src=\"images/logo.png\" width=\"300\">"
   ]
  },
  {
   "cell_type": "code",
   "execution_count": 1,
   "metadata": {},
   "outputs": [],
   "source": [
    "#import modules\n",
    "\n",
    "import numpy as np\n",
    "import pandas as pd\n",
    "import ipywidgets as widg\n",
    "import IPython.display as idisp\n",
    "import plotly.graph_objects as go\n"
   ]
  },
  {
   "cell_type": "code",
   "execution_count": 2,
   "metadata": {},
   "outputs": [],
   "source": [
    "#color functions\n",
    "\n",
    "predify_color = '0,71,187' #Predify dark blue\n",
    "\n",
    "#print markdown text in color\n",
    "def html( prefix, text ):\n",
    "    idisp.display( idisp.Markdown( '{} <span style=\"color: rgb({})\">{}</span>'.format( prefix, predify_color, text ) ) )\n"
   ]
  },
  {
   "cell_type": "code",
   "execution_count": 3,
   "metadata": {},
   "outputs": [
    {
     "data": {
      "text/markdown": [
       "# <span style=\"color: rgb(0,71,187)\">Análisis de spots (Auditsa) y ratings (Inra) en la radio mexicana</span>"
      ],
      "text/plain": [
       "<IPython.core.display.Markdown object>"
      ]
     },
     "metadata": {},
     "output_type": "display_data"
    }
   ],
   "source": [
    "html( '#', 'Análisis de spots (Auditsa) y ratings (Inra) en la radio mexicana' )"
   ]
  },
  {
   "cell_type": "code",
   "execution_count": 4,
   "metadata": {},
   "outputs": [],
   "source": [
    "#initial settings\n",
    "\n",
    "loadflag = 'y' #load files ('y') or calculate from scratch ('n')\n",
    "\n",
    "dataloc = 'data/' #location of raw datafiles\n",
    "imgloc = 'images/' #location of images\n",
    "\n",
    "#plot settings\n",
    "\n",
    "months = [ 'enero', 'febrero', 'marzo', 'abril', 'mayo' ] #months in right order\n",
    "\n",
    "plot_props = { 'marker' : 'o',\n",
    "    'ms' : 12,\n",
    "    'ls' : '-',\n",
    "    'lw' : 3,\n",
    "    'fontsize' : 20,\n",
    "    'xylabel' : 20,\n",
    "    'ticklabel' : 15,\n",
    "    'legend_prop' : { 'size':15 },\n",
    "    'legend_hlen' : 2,\n",
    "    'legend_np' : 2 }\n"
   ]
  },
  {
   "cell_type": "code",
   "execution_count": 5,
   "metadata": {},
   "outputs": [],
   "source": [
    "#data loading\n",
    "\n",
    "savename = dataloc+'data.h5' #HDF5 savename\n",
    "\n",
    "data = {} #raw data\n",
    "data['auditsa'] = pd.read_hdf( savename, key='auditsa' )\n",
    "data['inra'] = pd.read_hdf( savename, key='inra' )\n",
    "data['join'] = pd.read_hdf( savename, key='join' )\n"
   ]
  },
  {
   "cell_type": "code",
   "execution_count": 6,
   "metadata": {},
   "outputs": [
    {
     "data": {
      "text/markdown": [
       "## <span style=\"color: rgb(0,71,187)\">Dashboard Auditsa</span>"
      ],
      "text/plain": [
       "<IPython.core.display.Markdown object>"
      ]
     },
     "metadata": {},
     "output_type": "display_data"
    }
   ],
   "source": [
    "html( '##', 'Dashboard Auditsa' )"
   ]
  },
  {
   "cell_type": "code",
   "execution_count": 7,
   "metadata": {},
   "outputs": [
    {
     "data": {
      "application/vnd.jupyter.widget-view+json": {
       "model_id": "05583df9f0f8467ba51a23b21763a12a",
       "version_major": 2,
       "version_minor": 0
      },
      "text/plain": [
       "interactive(children=(Dropdown(description='Estación 1:', index=49, options=('CDMX XEABC-AM - (760 AM) ABC Rad…"
      ]
     },
     "metadata": {},
     "output_type": "display_data"
    }
   ],
   "source": [
    "#plot total number of spots in stations\n",
    "\n",
    "#define widgets\n",
    "\n",
    "#station 1\n",
    "est_1_widg = widg.Dropdown( options=data['auditsa']['estacion'].sort_values().unique(),\n",
    "                            value='CDMX XHMVS-FM - (102.5 FM) MVS 102.5',\n",
    "                            description='Estación 1:' )\n",
    "#station 2\n",
    "est_2_widg = widg.Dropdown( options=data['auditsa']['estacion'].sort_values().unique(),\n",
    "                            value='CDMX XHEXA-FM - (104.9 FM) Exa',\n",
    "                            description='Estación 2:' )\n",
    "#filter\n",
    "filtro_widg = widg.widgets.SelectMultiple( options=data['auditsa']['filtro'].sort_values().unique(),\n",
    "                                           value=data['auditsa']['filtro'].sort_values().unique().tolist(),\n",
    "                                           description='Filtro:' )\n",
    "#sector\n",
    "sector_widg = widg.Dropdown( options=data['auditsa']['sector'].sort_values().dropna().unique(),\n",
    "                             value='COMPUTACION',\n",
    "                             description='Sector:' )\n",
    "\n",
    "#update sector widget with filter\n",
    "def update_sec_widg( *args ):\n",
    "    sector_widg.options = data['auditsa'][ data['auditsa']['filtro'].isin( filtro_widg.value ) ]['sector'].sort_values().unique()\n",
    "\n",
    "#plot total number of spots in stations\n",
    "def plot_spots_station( estacion_1, estacion_2, filtro, sector ):\n",
    "    \n",
    "    cond_1 = ( ( data['auditsa']['filtro'].isin( filtro ) )\n",
    "             & ( data['auditsa']['sector'] == sector )\n",
    "             & ( data['auditsa']['estacion'] == estacion_1 )\n",
    "             ) #condition to filter data\n",
    "    yplot_1 = data['auditsa'][ cond_1 ].groupby( 'mes' )['hits'].agg( np.sum ).reindex( months ) #aggregate by month\n",
    "\n",
    "    cond_2 = ( ( data['auditsa']['filtro'].isin( filtro ) )\n",
    "             & ( data['auditsa']['sector'] == sector )\n",
    "             & ( data['auditsa']['estacion'] == estacion_2 )\n",
    "             ) #condition to filter data\n",
    "    yplot_2 = data['auditsa'][ cond_2 ].groupby( 'mes' )['hits'].agg( np.sum ).reindex( months ) #aggregate by month\n",
    "    \n",
    "    #initialise plot\n",
    "    fig = go.Figure()\n",
    "    fig.update_layout( title='Número de spots en estaciones',\n",
    "                       xaxis_title='mes',\n",
    "                       yaxis_title='Número de spots' )\n",
    "    \n",
    "    #plot plot!\n",
    "    fig.add_trace( go.Scatter( x=yplot_1.index, y=yplot_1, name=estacion_1 ) )\n",
    "    fig.add_trace( go.Scatter( x=yplot_2.index, y=yplot_2, name=estacion_2 ) )\n",
    "    \n",
    "    #finalise plot\n",
    "    fig.update_layout( hovermode='x' )\n",
    "    fig.show()\n",
    "\n",
    "#observe widgets\n",
    "filtro_widg.observe( update_sec_widg, 'value' ) #sector widget\n",
    "    \n",
    "#display interactive widget\n",
    "idisp.display( widg.interactive( plot_spots_station, estacion_1=est_1_widg, estacion_2=est_2_widg,\n",
    "                                 filtro=filtro_widg, sector=sector_widg ) )"
   ]
  },
  {
   "cell_type": "code",
   "execution_count": 8,
   "metadata": {},
   "outputs": [
    {
     "data": {
      "application/vnd.jupyter.widget-view+json": {
       "model_id": "c980f6e528ad4dcf93c3a13ff6e9f993",
       "version_major": 2,
       "version_minor": 0
      },
      "text/plain": [
       "interactive(children=(Dropdown(description='Sector:', index=1, options=('AGROPECUARIA/ANIMALES DOMESTICOS', 'A…"
      ]
     },
     "metadata": {},
     "output_type": "display_data"
    }
   ],
   "source": [
    "#plot company spot distribution among station groups\n",
    "\n",
    "#define widgets\n",
    "\n",
    "#sector\n",
    "sector_widg = widg.Dropdown( options=data['auditsa']['sector'].sort_values().dropna().unique(),\n",
    "                             value='ALIMENTOS',\n",
    "                             description='Sector:' )\n",
    "#company\n",
    "comp_widg = widg.Dropdown( options=data['auditsa'][ data['auditsa']['sector'] == 'ALIMENTOS' ]['compania'].sort_values().unique(),\n",
    "                           value='Coca-Cola',\n",
    "                           #value='Cooperativa Pascual',\n",
    "                           description='Compañía:' )\n",
    "#month 1\n",
    "mes_1_widg = widg.Dropdown( options=months,\n",
    "                            value='marzo',\n",
    "                            description='Mes 1:' )\n",
    "#month 2\n",
    "mes_2_widg = widg.Dropdown( options=months,\n",
    "                            value='abril',\n",
    "                            description='Mes 2:' )\n",
    "\n",
    "#update company widget with sector\n",
    "def update_comp_widg( *args ):\n",
    "    comp_widg.options = data['auditsa'][ data['auditsa']['sector'] == sector_widg.value ]['compania'].sort_values().unique()\n",
    "\n",
    "#plot company spot distribution among station groups\n",
    "def plot_spotDist_groups( sector, compania, mes_1, mes_2 ):\n",
    "\n",
    "    cond_1 = ( ( data['auditsa']['compania'] == compania )\n",
    "             & ( data['auditsa']['mes'] == mes_1 )\n",
    "             )\n",
    "    yplot_1 = data['auditsa'][ cond_1 ].groupby( 'competencia' )['hits'].agg( np.sum ).sort_values( ascending=False ) #aggregate by group\n",
    "\n",
    "    cond_2 = ( ( data['auditsa']['compania'] == compania )\n",
    "             & ( data['auditsa']['mes'] == mes_2 )\n",
    "             )\n",
    "    yplot_2 = data['auditsa'][ cond_2 ].groupby( 'competencia' )['hits'].agg( np.sum ).sort_values( ascending=False ) #aggregate by group\n",
    "\n",
    "\n",
    "    #initialise plot\n",
    "    fig = go.Figure()\n",
    "    fig.update_layout( title='Spots por grupo en compañía',\n",
    "                       xaxis_title='Grupo',\n",
    "                       yaxis_title='Spots' )\n",
    "\n",
    "    #plot plot!\n",
    "    fig.add_trace( go.Bar( x=yplot_1.index, y=yplot_1, name=mes_1 ) )\n",
    "    fig.add_trace( go.Bar( x=yplot_2.index, y=yplot_2, name=mes_2 ) )\n",
    "    \n",
    "    #finalise plot\n",
    "    fig.update_layout( barmode='group', xaxis_tickangle=-45, hovermode='x' )\n",
    "    fig.show()\n",
    "\n",
    "#observe widgets\n",
    "sector_widg.observe( update_comp_widg, 'value' ) #company widget\n",
    "    \n",
    "#display interactive widget\n",
    "idisp.display( widg.interactive( plot_spotDist_groups, sector=sector_widg, compania=comp_widg,\n",
    "                                 mes_1=mes_1_widg, mes_2=mes_2_widg ) )"
   ]
  },
  {
   "cell_type": "code",
   "execution_count": 9,
   "metadata": {},
   "outputs": [
    {
     "data": {
      "text/markdown": [
       "## <span style=\"color: rgb(0,71,187)\">Dashboard Inra</span>"
      ],
      "text/plain": [
       "<IPython.core.display.Markdown object>"
      ]
     },
     "metadata": {},
     "output_type": "display_data"
    }
   ],
   "source": [
    "html( '##', 'Dashboard Inra' )"
   ]
  },
  {
   "cell_type": "code",
   "execution_count": 10,
   "metadata": {},
   "outputs": [
    {
     "data": {
      "application/vnd.jupyter.widget-view+json": {
       "model_id": "91c9c23d144c4ec298e86c53eb85bb9d",
       "version_major": 2,
       "version_minor": 0
      },
      "text/plain": [
       "interactive(children=(Dropdown(description='Mes 1:', index=2, options=('enero', 'febrero', 'marzo', 'abril', '…"
      ]
     },
     "metadata": {},
     "output_type": "display_data"
    }
   ],
   "source": [
    "#plot audience in month for all stations\n",
    "\n",
    "#define widgets\n",
    "\n",
    "#station 1\n",
    "mes_1_widg = widg.Dropdown( options=months,\n",
    "                            value='marzo',\n",
    "                            description='Mes 1:' )\n",
    "#station 2\n",
    "mes_2_widg = widg.Dropdown( options=months,\n",
    "                            value='abril',\n",
    "                            description='Mes 2:' )\n",
    "#days\n",
    "dias_widg = widg.Dropdown( options=data['inra']['dias'].sort_values().unique(),\n",
    "                                value='L-V',\n",
    "                                description='Días:' )\n",
    "#place\n",
    "plaza_widg = widg.SelectMultiple( options=data['inra']['plaza'].sort_values().unique(),\n",
    "                            value=['Ciudad de México'],\n",
    "                            description='Plaza:' )\n",
    "#target\n",
    "target_widg = widg.RadioButtons( options=data['inra']['target'].sort_values().unique(),\n",
    "                                 value='Total Población',\n",
    "                                 description='Target:' )\n",
    "\n",
    "#plot audience in month for all stations\n",
    "def plot_audience_month( mes_1, mes_2, dias, plaza, target ):\n",
    "\n",
    "    cond_1 = ( ( data['inra']['mes'] == mes_1 )\n",
    "             & ( data['inra']['dias'] == dias )\n",
    "             & ( data['inra']['plaza'].isin( plaza ) )\n",
    "             & ( data['inra']['target'] == target )\n",
    "             )\n",
    "    yplot_1 = data['inra'][ cond_1 ].groupby( 'estacion' )['audiencia'].agg( np.sum ).sort_values( ascending=False ) #aggregate by station\n",
    "\n",
    "    cond_2 = ( ( data['inra']['mes'] == mes_2 )\n",
    "             & ( data['inra']['dias'] == dias )\n",
    "             & ( data['inra']['plaza'].isin( plaza ) )\n",
    "             & ( data['inra']['target'] == target )\n",
    "             )\n",
    "    yplot_2 = data['inra'][ cond_2 ].groupby( 'estacion' )['audiencia'].agg( np.sum ).sort_values( ascending=False ) #aggregate by station\n",
    "\n",
    "    #initialise plot\n",
    "    fig = go.Figure()\n",
    "    fig.update_layout( title='Audiencia por estación',\n",
    "                       xaxis_title='Estación',\n",
    "                       yaxis_title='Audiencia' )\n",
    "\n",
    "    #plot plot!\n",
    "    fig.add_trace( go.Bar( x=yplot_1.index, y=yplot_1, name=mes_1 ) )\n",
    "    fig.add_trace( go.Bar( x=yplot_2.index, y=yplot_2, name=mes_2 ) )\n",
    "    \n",
    "    #finalise plot\n",
    "    fig.update_layout( barmode='group', xaxis_tickangle=-45, hovermode='x' )\n",
    "    fig.show()\n",
    "\n",
    "#display interactive widget\n",
    "idisp.display( widg.interactive( plot_audience_month, mes_1=mes_1_widg, mes_2=mes_2_widg, dias=dias_widg,\n",
    "                                 plaza=plaza_widg, target=target_widg ) )"
   ]
  },
  {
   "cell_type": "code",
   "execution_count": 11,
   "metadata": {},
   "outputs": [
    {
     "data": {
      "application/vnd.jupyter.widget-view+json": {
       "model_id": "d3c79519b6ed4d218b18a19ae15110cc",
       "version_major": 2,
       "version_minor": 0
      },
      "text/plain": [
       "interactive(children=(Dropdown(description='Grupo 1:', index=4, options=('Exa', 'FM Globo', 'INDIRECTA', 'La M…"
      ]
     },
     "metadata": {},
     "output_type": "display_data"
    }
   ],
   "source": [
    "#plot size of audience per hour\n",
    "\n",
    "#define widgets\n",
    "\n",
    "#radio group 1\n",
    "comp_1_widg = widg.Dropdown( options=data['inra']['competencia'].sort_values().unique(),\n",
    "                            value='MVS Noticias',\n",
    "                            description='Grupo 1:' )\n",
    "#station 1\n",
    "est_1_widg = widg.Dropdown( options=data['inra'][ data['inra']['competencia'] == 'MVS Noticias' ]['estacion'].sort_values().unique(),\n",
    "                            value='CDMX XHMVS-FM - (102.5 FM) MVS 102.5',\n",
    "                            description='Estación 1:' )\n",
    "#radio group 2\n",
    "comp_2_widg = widg.Dropdown( options=data['inra']['competencia'].sort_values().unique(),\n",
    "                            value='Exa',\n",
    "                            description='Grupo 2:' )\n",
    "#station 2\n",
    "est_2_widg = widg.Dropdown( options=data['inra'][ data['inra']['competencia'] == 'Exa' ]['estacion'].sort_values().unique(),\n",
    "                            value='CDMX XHEXA-FM - (104.9 FM) Exa',\n",
    "                            description='Estación 2:' )\n",
    "#days\n",
    "dias_widg = widg.Dropdown( options=data['inra']['dias'].sort_values().unique(),\n",
    "                                value='L-V',\n",
    "                                description='Días:' )\n",
    "#month\n",
    "mes_widg = widg.SelectMultiple( options=months,\n",
    "                            value=months,\n",
    "                            description='Mes:' )\n",
    "#target\n",
    "target_widg = widg.RadioButtons( options=data['inra']['target'].sort_values().unique(),\n",
    "                                 value='Total Población',\n",
    "                                 description='Target:' )\n",
    "\n",
    "#update station 1 widget with radio group 1\n",
    "def update_est1_widg( *args ):\n",
    "    est_1_widg.options = data['inra'][ data['inra']['competencia'] == comp_1_widg.value ]['estacion'].sort_values().unique()\n",
    "\n",
    "#update station 2 widget with radio group 2\n",
    "def update_est2_widg( *args ):\n",
    "    est_2_widg.options = data['inra'][ data['inra']['competencia'] == comp_2_widg.value ]['estacion'].sort_values().unique()\n",
    "\n",
    "#plot size of audience per hour\n",
    "def plot_audience_hour( comp_1, estacion_1, comp_2, estacion_2, dias, mes, target ):\n",
    "    \n",
    "    cond_1 = ( ( data['inra']['estacion'] == estacion_1 )\n",
    "             & ( data['inra']['dias'] == dias )\n",
    "             & ( data['inra']['mes'].isin( mes ) )\n",
    "             & ( data['inra']['target'] == target )\n",
    "             ) #condition to filter data\n",
    "    yplot_1 = data['inra'][ cond_1 ].groupby( 'hora' )['audiencia'].agg( np.sum ).sort_index() #aggregate by hours\n",
    "\n",
    "    cond_2 = ( ( data['inra']['estacion'] == estacion_2 )\n",
    "             & ( data['inra']['dias'] == dias )\n",
    "             & ( data['inra']['mes'].isin( mes ) )\n",
    "             & ( data['inra']['target'] == target )\n",
    "             ) #condition to filter data\n",
    "    yplot_2 = data['inra'][ cond_2 ].groupby( 'hora' )['audiencia'].agg( np.sum ).sort_index() #aggregate by hours\n",
    "    \n",
    "    #initialise plot\n",
    "    fig = go.Figure()\n",
    "    fig.update_layout( title='Audiencia por hora',\n",
    "                       xaxis_title='Hora',\n",
    "                       yaxis_title='Audiencia' )\n",
    "    \n",
    "    #plot plot!\n",
    "    fig.add_trace( go.Scatter( x=yplot_1.index, y=yplot_1, name=estacion_1 ) )\n",
    "    fig.add_trace( go.Scatter( x=yplot_2.index, y=yplot_2, name=estacion_2 ) )\n",
    "    \n",
    "    #finalise plot\n",
    "    fig.update_layout( hovermode='x' )\n",
    "    fig.show()\n",
    "    \n",
    "#observe widgets\n",
    "comp_1_widg.observe( update_est1_widg, 'value' ) #station1 widget\n",
    "comp_2_widg.observe( update_est2_widg, 'value' ) #station1 widget\n",
    "    \n",
    "#display interactive widget\n",
    "idisp.display( widg.interactive( plot_audience_hour, comp_1=comp_1_widg, estacion_1=est_1_widg,\n",
    "                                 comp_2=comp_2_widg, estacion_2=est_2_widg,\n",
    "                                 dias=dias_widg, mes=mes_widg, target=target_widg ) )"
   ]
  },
  {
   "cell_type": "code",
   "execution_count": 12,
   "metadata": {},
   "outputs": [
    {
     "data": {
      "text/markdown": [
       "## <span style=\"color: rgb(0,71,187)\">Información adicional</span>"
      ],
      "text/plain": [
       "<IPython.core.display.Markdown object>"
      ]
     },
     "metadata": {},
     "output_type": "display_data"
    }
   ],
   "source": [
    "html( '##', 'Información adicional' )"
   ]
  },
  {
   "cell_type": "code",
   "execution_count": 13,
   "metadata": {
    "scrolled": true
   },
   "outputs": [
    {
     "data": {
      "text/markdown": [
       "### <span style=\"color: rgb(0,71,187)\">Columnas en datos</span>"
      ],
      "text/plain": [
       "<IPython.core.display.Markdown object>"
      ]
     },
     "metadata": {},
     "output_type": "display_data"
    }
   ],
   "source": [
    "html( '###', 'Columnas en datos' )"
   ]
  },
  {
   "cell_type": "code",
   "execution_count": 14,
   "metadata": {},
   "outputs": [
    {
     "data": {
      "application/vnd.jupyter.widget-view+json": {
       "model_id": "cbfa0a1fcb5b461ca789ea28291faf49",
       "version_major": 2,
       "version_minor": 0
      },
      "text/plain": [
       "interactive(children=(Dropdown(description='base', options=('auditsa', 'inra', 'join'), value='auditsa'), Outp…"
      ]
     },
     "metadata": {},
     "output_type": "display_data"
    }
   ],
   "source": [
    "#get columns in dataset\n",
    "\n",
    "def columns_dataset( base ):\n",
    "    for col in data[ base ].columns:\n",
    "        print(col)\n",
    "        \n",
    "idisp.display( widg.interactive( columns_dataset, base=data.keys() ) ) #get columns in dataset\n"
   ]
  },
  {
   "cell_type": "code",
   "execution_count": 15,
   "metadata": {},
   "outputs": [
    {
     "data": {
      "text/markdown": [
       "### <span style=\"color: rgb(0,71,187)\">Elementos más comunes</span>"
      ],
      "text/plain": [
       "<IPython.core.display.Markdown object>"
      ]
     },
     "metadata": {},
     "output_type": "display_data"
    }
   ],
   "source": [
    "html( '###', 'Elementos más comunes' )"
   ]
  },
  {
   "cell_type": "code",
   "execution_count": 16,
   "metadata": {},
   "outputs": [
    {
     "data": {
      "text/markdown": [
       "#### <span style=\"color: rgb(0,71,187)\">Auditsa</span>"
      ],
      "text/plain": [
       "<IPython.core.display.Markdown object>"
      ]
     },
     "metadata": {},
     "output_type": "display_data"
    },
    {
     "data": {
      "application/vnd.jupyter.widget-view+json": {
       "model_id": "f9a95164a69b4fccba1ebc8905fe3360",
       "version_major": 2,
       "version_minor": 0
      },
      "text/plain": [
       "interactive(children=(Dropdown(description='columna', options=('categoria', 'compania', 'competencia', 'estaci…"
      ]
     },
     "metadata": {},
     "output_type": "display_data"
    }
   ],
   "source": [
    "#get top elements in column\n",
    "\n",
    "def top_elements_column( df, columna, top ):\n",
    "    print( df[ columna ].value_counts()[:top] )\n",
    "\n",
    "html( '####', 'Auditsa' )\n",
    "    \n",
    "idisp.display( widg.interactive( top_elements_column, df=widg.fixed( data['auditsa'] ),\n",
    "                                 columna=data['auditsa'].columns, top=(1, 30) ) ) #get top elements in column\n"
   ]
  },
  {
   "cell_type": "code",
   "execution_count": 17,
   "metadata": {
    "scrolled": true
   },
   "outputs": [
    {
     "data": {
      "text/markdown": [
       "#### <span style=\"color: rgb(0,71,187)\">Inra</span>"
      ],
      "text/plain": [
       "<IPython.core.display.Markdown object>"
      ]
     },
     "metadata": {},
     "output_type": "display_data"
    },
    {
     "data": {
      "application/vnd.jupyter.widget-view+json": {
       "model_id": "51f46fc5927d41deb0388e1e1446c5e0",
       "version_major": 2,
       "version_minor": 0
      },
      "text/plain": [
       "interactive(children=(Dropdown(description='columna', options=('plaza', 'mes', 'estudio', 'dias', 'target', 'u…"
      ]
     },
     "metadata": {},
     "output_type": "display_data"
    }
   ],
   "source": [
    "html( '####', 'Inra' )\n",
    "\n",
    "idisp.display( widg.interactive( top_elements_column, df=widg.fixed( data['inra'] ),\n",
    "                                 columna=data['inra'].columns, top=(1, 30) ) ) #get top elements in column\n"
   ]
  },
  {
   "cell_type": "code",
   "execution_count": 18,
   "metadata": {},
   "outputs": [
    {
     "data": {
      "text/markdown": [
       "#### <span style=\"color: rgb(0,71,187)\">Cruce</span>"
      ],
      "text/plain": [
       "<IPython.core.display.Markdown object>"
      ]
     },
     "metadata": {},
     "output_type": "display_data"
    },
    {
     "data": {
      "application/vnd.jupyter.widget-view+json": {
       "model_id": "af64a2d7eb23468888405b415cc36cd1",
       "version_major": 2,
       "version_minor": 0
      },
      "text/plain": [
       "interactive(children=(Dropdown(description='columna', options=('mes', 'plaza', 'estacion', 'grupo', 'competenc…"
      ]
     },
     "metadata": {},
     "output_type": "display_data"
    }
   ],
   "source": [
    "html( '####', 'Cruce' )\n",
    "\n",
    "idisp.display( widg.interactive( top_elements_column, df=widg.fixed( data['join'] ),\n",
    "                                 columna=data['join'].columns, top=(1, 30) ) ) #get top elements in column"
   ]
  },
  {
   "cell_type": "code",
   "execution_count": 19,
   "metadata": {
    "scrolled": true
   },
   "outputs": [
    {
     "data": {
      "text/markdown": [
       "### <span style=\"color: rgb(0,71,187)\">Estaciones por plaza</span>"
      ],
      "text/plain": [
       "<IPython.core.display.Markdown object>"
      ]
     },
     "metadata": {},
     "output_type": "display_data"
    }
   ],
   "source": [
    "html( '###', 'Estaciones por plaza' )"
   ]
  },
  {
   "cell_type": "code",
   "execution_count": 20,
   "metadata": {},
   "outputs": [
    {
     "data": {
      "text/markdown": [
       "#### <span style=\"color: rgb(0,71,187)\">Auditsa</span>"
      ],
      "text/plain": [
       "<IPython.core.display.Markdown object>"
      ]
     },
     "metadata": {},
     "output_type": "display_data"
    },
    {
     "data": {
      "application/vnd.jupyter.widget-view+json": {
       "model_id": "e0170f505f2846dcbce74149d7e0a653",
       "version_major": 2,
       "version_minor": 0
      },
      "text/plain": [
       "interactive(children=(Dropdown(description='plaza', options=('Monterrey', 'Puebla', 'Ciudad de México', 'Cuern…"
      ]
     },
     "metadata": {},
     "output_type": "display_data"
    }
   ],
   "source": [
    "#get stations per place\n",
    "\n",
    "def stations_place( df, plaza ):\n",
    "    group_plaza_auditsa = df.groupby( 'plaza' ).get_group( plaza )\n",
    "    \n",
    "    for estacion in group_plaza_auditsa['estacion'].sort_values().unique():\n",
    "        print( estacion )\n",
    "\n",
    "html( '####', 'Auditsa' )\n",
    "        \n",
    "idisp.display( widg.interactive( stations_place, df=widg.fixed( data['auditsa'] ),\n",
    "                                 plaza=data['auditsa']['plaza'].unique() ) ) #get stations per place"
   ]
  },
  {
   "cell_type": "code",
   "execution_count": 21,
   "metadata": {},
   "outputs": [
    {
     "data": {
      "text/markdown": [
       "#### <span style=\"color: rgb(0,71,187)\">Inra</span>"
      ],
      "text/plain": [
       "<IPython.core.display.Markdown object>"
      ]
     },
     "metadata": {},
     "output_type": "display_data"
    },
    {
     "data": {
      "application/vnd.jupyter.widget-view+json": {
       "model_id": "d1a3e43b2f534ab6a3a76f087e8b66b5",
       "version_major": 2,
       "version_minor": 0
      },
      "text/plain": [
       "interactive(children=(Dropdown(description='plaza', options=('Ciudad de México', 'Monterrey', 'Guadalajara', '…"
      ]
     },
     "metadata": {},
     "output_type": "display_data"
    }
   ],
   "source": [
    "html( '####', 'Inra' )\n",
    "\n",
    "idisp.display( widg.interactive( stations_place, df=widg.fixed( data['inra'] ),\n",
    "                                 plaza=data['inra']['plaza'].unique() ) ) #get stations per place"
   ]
  },
  {
   "cell_type": "code",
   "execution_count": 22,
   "metadata": {},
   "outputs": [
    {
     "data": {
      "text/markdown": [
       "#### <span style=\"color: rgb(0,71,187)\">Cruce</span>"
      ],
      "text/plain": [
       "<IPython.core.display.Markdown object>"
      ]
     },
     "metadata": {},
     "output_type": "display_data"
    },
    {
     "data": {
      "application/vnd.jupyter.widget-view+json": {
       "model_id": "89c5a26d612c4d67b6f7a64576ded0bd",
       "version_major": 2,
       "version_minor": 0
      },
      "text/plain": [
       "interactive(children=(Dropdown(description='plaza', options=('Cd Juárez', 'Ciudad de México', 'Guadalajara', '…"
      ]
     },
     "metadata": {},
     "output_type": "display_data"
    }
   ],
   "source": [
    "html( '####', 'Cruce' )\n",
    "\n",
    "idisp.display( widg.interactive( stations_place, df=widg.fixed( data['join'] ),\n",
    "                                 plaza=data['join']['plaza'].unique() ) ) #get stations per place"
   ]
  }
 ],
 "metadata": {
  "hide_input": false,
  "kernelspec": {
   "display_name": "Python 3",
   "language": "python",
   "name": "python3"
  },
  "language_info": {
   "codemirror_mode": {
    "name": "ipython",
    "version": 3
   },
   "file_extension": ".py",
   "mimetype": "text/x-python",
   "name": "python",
   "nbconvert_exporter": "python",
   "pygments_lexer": "ipython3",
   "version": "3.7.3"
  },
  "varInspector": {
   "cols": {
    "lenName": 16,
    "lenType": 16,
    "lenVar": 40
   },
   "kernels_config": {
    "python": {
     "delete_cmd_postfix": "",
     "delete_cmd_prefix": "del ",
     "library": "var_list.py",
     "varRefreshCmd": "print(var_dic_list())"
    },
    "r": {
     "delete_cmd_postfix": ") ",
     "delete_cmd_prefix": "rm(",
     "library": "var_list.r",
     "varRefreshCmd": "cat(var_dic_list()) "
    }
   },
   "types_to_exclude": [
    "module",
    "function",
    "builtin_function_or_method",
    "instance",
    "_Feature"
   ],
   "window_display": false
  }
 },
 "nbformat": 4,
 "nbformat_minor": 2
}
