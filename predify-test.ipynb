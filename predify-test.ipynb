{
 "cells": [
  {
   "cell_type": "markdown",
   "metadata": {},
   "source": [
    "<img src=\"images/logo.png\" width=\"300\">"
   ]
  },
  {
   "cell_type": "code",
   "execution_count": 1,
   "metadata": {},
   "outputs": [],
   "source": [
    "#import modules\n",
    "\n",
    "import numpy as np\n",
    "import pandas as pd\n",
    "import ipywidgets as widg\n",
    "import IPython.display as idisp\n",
    "import plotly.graph_objects as go\n"
   ]
  },
  {
   "cell_type": "code",
   "execution_count": 2,
   "metadata": {},
   "outputs": [],
   "source": [
    "#color settings\n",
    "\n",
    "predify_color = '0,71,187' #Predify dark blue\n",
    "\n",
    "#print markdown text in color\n",
    "def html( prefix, text ):\n",
    "    idisp.display( idisp.Markdown( '{} <span style=\"color: rgb({})\">{}</span>'.format( prefix, predify_color, text ) ) )\n",
    "    "
   ]
  },
  {
   "cell_type": "code",
   "execution_count": 3,
   "metadata": {},
   "outputs": [
    {
     "data": {
      "text/markdown": [
       "# <span style=\"color: rgb(0,71,187)\">Análisis de spots (Auditsa) y ratings (Inra) en la radio mexicana</span>"
      ],
      "text/plain": [
       "<IPython.core.display.Markdown object>"
      ]
     },
     "metadata": {},
     "output_type": "display_data"
    }
   ],
   "source": [
    "html( '#', 'Análisis de spots (Auditsa) y ratings (Inra) en la radio mexicana' )"
   ]
  },
  {
   "cell_type": "code",
   "execution_count": 4,
   "metadata": {},
   "outputs": [],
   "source": [
    "#initial settings\n",
    "\n",
    "loadflag = 'y' #load files ('y') or calculate from scratch ('n')\n",
    "\n",
    "dataloc = 'data/' #location of raw datafiles\n",
    "imgloc = 'images/' #location of images\n",
    "\n",
    "#plot settings\n",
    "\n",
    "months = [ 'enero', 'febrero', 'marzo', 'abril', 'mayo' ] #months in right order\n",
    "\n",
    "plot_props = { 'marker' : 'o',\n",
    "    'ms' : 12,\n",
    "    'ls' : '-',\n",
    "    'lw' : 3,\n",
    "    'fontsize' : 20,\n",
    "    'xylabel' : 20,\n",
    "    'ticklabel' : 15,\n",
    "    'legend_prop' : { 'size':15 },\n",
    "    'legend_hlen' : 2,\n",
    "    'legend_np' : 2 }\n"
   ]
  },
  {
   "cell_type": "code",
   "execution_count": 5,
   "metadata": {},
   "outputs": [],
   "source": [
    "#data loading\n",
    "\n",
    "savename = dataloc+'data.h5' #HDF5 savename\n",
    "\n",
    "data = {} #raw data\n",
    "data['auditsa'] = pd.read_hdf( savename, key='auditsa' )\n",
    "data['inra'] = pd.read_hdf( savename, key='inra' )\n",
    "data['join'] = pd.read_hdf( savename, key='join' )\n"
   ]
  },
  {
   "cell_type": "code",
   "execution_count": 6,
   "metadata": {},
   "outputs": [
    {
     "data": {
      "text/markdown": [
       "## <span style=\"color: rgb(0,71,187)\">Dashboard Auditsa</span>"
      ],
      "text/plain": [
       "<IPython.core.display.Markdown object>"
      ]
     },
     "metadata": {},
     "output_type": "display_data"
    }
   ],
   "source": [
    "html( '##', 'Dashboard Auditsa' )"
   ]
  },
  {
   "cell_type": "code",
   "execution_count": 7,
   "metadata": {},
   "outputs": [
    {
     "data": {
      "application/vnd.jupyter.widget-view+json": {
       "model_id": "f32f5ee05526447887fd90144f26c474",
       "version_major": 2,
       "version_minor": 0
      },
      "text/plain": [
       "interactive(children=(Dropdown(description='Estación 1:', index=49, options=('CDMX XEABC-AM - (760 AM) ABC Rad…"
      ]
     },
     "metadata": {},
     "output_type": "display_data"
    }
   ],
   "source": [
    "#plot total number of spots in stations\n",
    "\n",
    "#define widgets\n",
    "\n",
    "#station 1\n",
    "est_1_widg = widg.Dropdown( options=data['auditsa']['estacion'].sort_values().unique(),\n",
    "                            value='CDMX XHMVS-FM - (102.5 FM) MVS 102.5',\n",
    "                            description='Estación 1:' )\n",
    "#station 2\n",
    "est_2_widg = widg.Dropdown( options=data['auditsa']['estacion'].sort_values().unique(),\n",
    "                            value='CDMX XHEXA-FM - (104.9 FM) Exa',\n",
    "                            description='Estación 2:' )\n",
    "#filter\n",
    "filtro_widg = widg.widgets.SelectMultiple( options=data['auditsa']['filtro'].sort_values().unique(),\n",
    "                                           value=data['auditsa']['filtro'].sort_values().unique().tolist(),\n",
    "                                           description='Filtro:' )\n",
    "#sector\n",
    "sector_widg = widg.Dropdown( options=data['auditsa']['sector'].sort_values().dropna().unique(),\n",
    "                             value='COMPUTACION',\n",
    "                             description='Sector:' )\n",
    "\n",
    "#plot total number of spots in stations\n",
    "def plot_spots_station( estacion_1, estacion_2, filtro, sector ):\n",
    "    \n",
    "    cond_1 = ( ( data['auditsa']['filtro'].isin( filtro ) )\n",
    "             & ( data['auditsa']['sector'] == sector )\n",
    "             & ( data['auditsa']['estacion'] == estacion_1 )\n",
    "             ) #condition to filter data\n",
    "    yplot_1 = data['auditsa'][ cond_1 ].groupby( 'mes' )['hits'].agg( np.sum ).reindex( months ) #aggregate by month\n",
    "\n",
    "    cond_2 = ( ( data['auditsa']['filtro'].isin( filtro ) )\n",
    "             & ( data['auditsa']['sector'] == sector )\n",
    "             & ( data['auditsa']['estacion'] == estacion_2 )\n",
    "             ) #condition to filter data\n",
    "    yplot_2 = data['auditsa'][ cond_2 ].groupby( 'mes' )['hits'].agg( np.sum ).reindex( months ) #aggregate by month\n",
    "    \n",
    "    #initialise plot\n",
    "    fig = go.Figure()\n",
    "    fig.update_layout( title='Número de spots en estaciones',\n",
    "                       xaxis_title='mes',\n",
    "                       yaxis_title='Número de spots' )\n",
    "    \n",
    "    #plot plot!\n",
    "    fig.add_trace( go.Scatter( x=yplot_1.index, y=yplot_1, name=estacion_1 ) )\n",
    "    fig.add_trace( go.Scatter( x=yplot_2.index, y=yplot_2, name=estacion_2 ) )\n",
    "    \n",
    "    #finalise plot\n",
    "    fig.update_layout( hovermode='x' )\n",
    "    fig.show()\n",
    "    \n",
    "#display interactive widget\n",
    "idisp.display( widg.interactive( plot_spots_station, estacion_1=est_1_widg, estacion_2=est_2_widg,\n",
    "                                 filtro=filtro_widg, sector=sector_widg ) )\n"
   ]
  },
  {
   "cell_type": "code",
   "execution_count": 8,
   "metadata": {},
   "outputs": [
    {
     "data": {
      "application/vnd.jupyter.widget-view+json": {
       "model_id": "8dcaf5a8d9ee4676ac15c84dfef3b314",
       "version_major": 2,
       "version_minor": 0
      },
      "text/plain": [
       "interactive(children=(Dropdown(description='Compañía:', index=672, options=('17 Asados', '3 Hermanos', '3A Res…"
      ]
     },
     "metadata": {},
     "output_type": "display_data"
    }
   ],
   "source": [
    "#plot company spot distribution among station groups\n",
    "\n",
    "#define widgets\n",
    "\n",
    "#company\n",
    "comp_widg = widg.Dropdown( options=data['auditsa']['compania'].sort_values().unique(),\n",
    "                           value='Coca-Cola',\n",
    "                           #value='Cooperativa Pascual',\n",
    "                           description='Compañía:' )\n",
    "#month 1\n",
    "mes_1_widg = widg.Dropdown( options=months,\n",
    "                            value='marzo',\n",
    "                            description='Mes 1:' )\n",
    "#month 2\n",
    "mes_2_widg = widg.Dropdown( options=months,\n",
    "                            value='abril',\n",
    "                            description='Mes 2:' )\n",
    "    \n",
    "#plot company spot distribution among station groups\n",
    "def plot_spotDist_groups( compania, mes_1, mes_2 ):\n",
    "\n",
    "    cond_1 = ( ( data['auditsa']['compania'] == compania )\n",
    "             & ( data['auditsa']['mes'] == mes_1 )\n",
    "             )\n",
    "    yplot_1 = data['auditsa'][ cond_1 ].groupby( 'competencia' )['hits'].agg( np.sum ).sort_values( ascending=False ) #aggregate by group\n",
    "\n",
    "    cond_2 = ( ( data['auditsa']['compania'] == compania )\n",
    "             & ( data['auditsa']['mes'] == mes_2 )\n",
    "             )\n",
    "    yplot_2 = data['auditsa'][ cond_2 ].groupby( 'competencia' )['hits'].agg( np.sum ).sort_values( ascending=False ) #aggregate by group\n",
    "\n",
    "\n",
    "    #initialise plot\n",
    "    fig = go.Figure()\n",
    "    fig.update_layout( title='Spots por grupo en compañía',\n",
    "                       xaxis_title='Grupo',\n",
    "                       yaxis_title='Spots' )\n",
    "\n",
    "    #plot plot!\n",
    "    fig.add_trace( go.Bar( x=yplot_1.index, y=yplot_1, name=mes_1 ) )\n",
    "    fig.add_trace( go.Bar( x=yplot_2.index, y=yplot_2, name=mes_2 ) )\n",
    "    \n",
    "    #finalise plot\n",
    "    fig.update_layout( barmode='group', xaxis_tickangle=-45, hovermode='x' )\n",
    "    fig.show()\n",
    "\n",
    "#display interactive widget\n",
    "idisp.display( widg.interactive( plot_spotDist_groups, compania=comp_widg, mes_1=mes_1_widg, mes_2=mes_2_widg ) )\n"
   ]
  },
  {
   "cell_type": "code",
   "execution_count": 9,
   "metadata": {},
   "outputs": [
    {
     "data": {
      "text/markdown": [
       "## <span style=\"color: rgb(0,71,187)\">Dashboard Inra</span>"
      ],
      "text/plain": [
       "<IPython.core.display.Markdown object>"
      ]
     },
     "metadata": {},
     "output_type": "display_data"
    }
   ],
   "source": [
    "html( '##', 'Dashboard Inra' )"
   ]
  },
  {
   "cell_type": "code",
   "execution_count": 10,
   "metadata": {},
   "outputs": [
    {
     "data": {
      "application/vnd.jupyter.widget-view+json": {
       "model_id": "7d4ab724dad1470eb002782822cc741a",
       "version_major": 2,
       "version_minor": 0
      },
      "text/plain": [
       "interactive(children=(Dropdown(description='Mes 1:', index=2, options=('enero', 'febrero', 'marzo', 'abril', '…"
      ]
     },
     "metadata": {},
     "output_type": "display_data"
    }
   ],
   "source": [
    "#plot audience in month for all stations\n",
    "\n",
    "#define widgets\n",
    "\n",
    "#station 1\n",
    "mes_1_widg = widg.Dropdown( options=months,\n",
    "                            value='marzo',\n",
    "                            description='Mes 1:' )\n",
    "#station 2\n",
    "mes_2_widg = widg.Dropdown( options=months,\n",
    "                            value='abril',\n",
    "                            description='Mes 2:' )\n",
    "#days\n",
    "dias_widg = widg.Dropdown( options=data['inra']['dias'].sort_values().unique(),\n",
    "                                value='L-V',\n",
    "                                description='Días:' )\n",
    "#place\n",
    "plaza_widg = widg.SelectMultiple( options=data['inra']['plaza'].sort_values().unique(),\n",
    "                            value=['Ciudad de México'],\n",
    "                            description='Plaza:' )\n",
    "#target\n",
    "target_widg = widg.RadioButtons( options=data['inra']['target'].sort_values().unique(),\n",
    "                                 value='Total Población',\n",
    "                                 description='Target:' )\n",
    "\n",
    "#plot audience in month for all stations\n",
    "def plot_audience_month( mes_1, mes_2, dias, plaza, target ):\n",
    "\n",
    "    cond_1 = ( ( data['inra']['mes'] == mes_1 )\n",
    "             & ( data['inra']['dias'] == dias )\n",
    "             & ( data['inra']['plaza'].isin( plaza ) )\n",
    "             & ( data['inra']['target'] == target )\n",
    "             )\n",
    "    yplot_1 = data['inra'][ cond_1 ].groupby( 'estacion' )['audiencia'].agg( np.sum ).sort_values( ascending=False ) #aggregate by station\n",
    "\n",
    "    cond_2 = ( ( data['inra']['mes'] == mes_2 )\n",
    "             & ( data['inra']['dias'] == dias )\n",
    "             & ( data['inra']['plaza'].isin( plaza ) )\n",
    "             & ( data['inra']['target'] == target )\n",
    "             )\n",
    "    yplot_2 = data['inra'][ cond_2 ].groupby( 'estacion' )['audiencia'].agg( np.sum ).sort_values( ascending=False ) #aggregate by station\n",
    "\n",
    "    #initialise plot\n",
    "    fig = go.Figure()\n",
    "    fig.update_layout( title='Audiencia por estación',\n",
    "                       xaxis_title='Estación',\n",
    "                       yaxis_title='Audiencia' )\n",
    "\n",
    "    #plot plot!\n",
    "    fig.add_trace( go.Bar( x=yplot_1.index, y=yplot_1, name=mes_1 ) )\n",
    "    fig.add_trace( go.Bar( x=yplot_2.index, y=yplot_2, name=mes_2 ) )\n",
    "    \n",
    "    #finalise plot\n",
    "    fig.update_layout( barmode='group', xaxis_tickangle=-45, hovermode='x' )\n",
    "    fig.show()\n",
    "\n",
    "#display interactive widget\n",
    "idisp.display( widg.interactive( plot_audience_month, mes_1=mes_1_widg, mes_2=mes_2_widg, dias=dias_widg,\n",
    "                                 plaza=plaza_widg, target=target_widg ) )\n"
   ]
  },
  {
   "cell_type": "code",
   "execution_count": 11,
   "metadata": {},
   "outputs": [
    {
     "data": {
      "application/vnd.jupyter.widget-view+json": {
       "model_id": "853ac52a11194c2d8b0327b56fe6db64",
       "version_major": 2,
       "version_minor": 0
      },
      "text/plain": [
       "interactive(children=(Dropdown(description='Estación 1:', index=48, options=('CDMX XEABC-AM - (760 AM) ABC Rad…"
      ]
     },
     "metadata": {},
     "output_type": "display_data"
    }
   ],
   "source": [
    "#plot size of audience per hour\n",
    "\n",
    "#define widgets\n",
    "\n",
    "#station 1\n",
    "est_1_widg = widg.Dropdown( options=data['inra']['estacion'].sort_values().unique(),\n",
    "                            value='CDMX XHMVS-FM - (102.5 FM) MVS 102.5',\n",
    "                            description='Estación 1:' )\n",
    "#station 2\n",
    "est_2_widg = widg.Dropdown( options=data['inra']['estacion'].sort_values().unique(),\n",
    "                            value='CDMX XHEXA-FM - (104.9 FM) Exa',\n",
    "                            description='Estación 2:' )\n",
    "#days\n",
    "dias_widg = widg.Dropdown( options=data['inra']['dias'].sort_values().unique(),\n",
    "                                value='L-V',\n",
    "                                description='Días:' )\n",
    "#month\n",
    "mes_widg = widg.SelectMultiple( options=months,\n",
    "                            value=months,\n",
    "                            description='Mes:' )\n",
    "#target\n",
    "target_widg = widg.RadioButtons( options=data['inra']['target'].sort_values().unique(),\n",
    "                                 value='Total Población',\n",
    "                                 description='Target:' )\n",
    "   \n",
    "#plot size of audience per hour\n",
    "def plot_audience_hour( estacion_1, estacion_2, dias, mes, target ):\n",
    "    \n",
    "    cond_1 = ( ( data['inra']['estacion'] == estacion_1 )\n",
    "             & ( data['inra']['dias'] == dias )\n",
    "             & ( data['inra']['mes'].isin( mes ) )\n",
    "             & ( data['inra']['target'] == target )\n",
    "             ) #condition to filter data\n",
    "    yplot_1 = data['inra'][ cond_1 ].groupby( 'hora' )['audiencia'].agg( np.sum ).sort_index() #aggregate by hours\n",
    "\n",
    "    cond_2 = ( ( data['inra']['estacion'] == estacion_2 )\n",
    "             & ( data['inra']['dias'] == dias )\n",
    "             & ( data['inra']['mes'].isin( mes ) )\n",
    "             & ( data['inra']['target'] == target )\n",
    "             ) #condition to filter data\n",
    "    yplot_2 = data['inra'][ cond_2 ].groupby( 'hora' )['audiencia'].agg( np.sum ).sort_index() #aggregate by hours\n",
    "    \n",
    "    #initialise plot\n",
    "    fig = go.Figure()\n",
    "    fig.update_layout( title='Audiencia por hora',\n",
    "                       xaxis_title='Hora',\n",
    "                       yaxis_title='Audiencia' )\n",
    "    \n",
    "    #plot plot!\n",
    "    fig.add_trace( go.Scatter( x=yplot_1.index, y=yplot_1, name=estacion_1 ) )\n",
    "    fig.add_trace( go.Scatter( x=yplot_2.index, y=yplot_2, name=estacion_2 ) )\n",
    "    \n",
    "    #finalise plot\n",
    "    fig.update_layout( hovermode='x', xaxis_tickangle=-45 )\n",
    "    fig.show()\n",
    "    \n",
    "#display interactive widget\n",
    "idisp.display( widg.interactive( plot_audience_hour, estacion_1=est_1_widg, estacion_2=est_2_widg,\n",
    "                                 dias=dias_widg, mes=mes_widg, target=target_widg ) )\n"
   ]
  },
  {
   "cell_type": "code",
   "execution_count": 12,
   "metadata": {},
   "outputs": [
    {
     "data": {
      "text/markdown": [
       "## <span style=\"color: rgb(0,71,187)\">Dashboard Cruce</span>"
      ],
      "text/plain": [
       "<IPython.core.display.Markdown object>"
      ]
     },
     "metadata": {},
     "output_type": "display_data"
    }
   ],
   "source": [
    "html( '##', 'Dashboard Cruce' )"
   ]
  },
  {
   "cell_type": "code",
   "execution_count": 13,
   "metadata": {},
   "outputs": [
    {
     "data": {
      "application/vnd.jupyter.widget-view+json": {
       "model_id": "f8ee9fd51eb040e98bda6560f5ce9ee0",
       "version_major": 2,
       "version_minor": 0
      },
      "text/plain": [
       "interactive(children=(Dropdown(description='Grupo 1:', index=2, options=('Exa', 'La Mejor FM', 'MVS Noticias',…"
      ]
     },
     "metadata": {},
     "output_type": "display_data"
    }
   ],
   "source": [
    "#plot comparison of audience per spot for stations across time\n",
    "\n",
    "key = 'join' #dataset key = auditsa, inra, join\n",
    "\n",
    "#default values\n",
    "comp_1_def = 'MVS Noticias'\n",
    "comp_2_def = 'Exa'\n",
    "sector_def = 'TELECOMUNICACIONES'\n",
    "target_def = 'Total Población'\n",
    "\n",
    "#define widgets\n",
    "\n",
    "#radio group 1\n",
    "comp_1_widg = widg.Dropdown( options=data[key]['competencia'].sort_values().unique(),\n",
    "                            value=comp_1_def,\n",
    "                            description='Grupo 1:' )\n",
    "#radio group 2\n",
    "comp_2_widg = widg.Dropdown( options=data[key]['competencia'].sort_values().unique(),\n",
    "                            value=comp_2_def,\n",
    "                            description='Grupo 2:' )\n",
    "#sector\n",
    "sector_widg = widg.Dropdown( options=data[key]['sector'].sort_values().dropna().unique(),\n",
    "                             value=sector_def,\n",
    "                             description='Sector:' )\n",
    "#target\n",
    "target_widg = widg.RadioButtons( options=data[key]['target'].sort_values().unique(),\n",
    "                                 value=target_def,\n",
    "                                 description='Target:' )\n",
    "\n",
    "#plot comparison of audience per spot for stations across time\n",
    "def plot_audSpot_2stationss_time( comp_1, comp_2, sector, target ):\n",
    "\n",
    "    cond_1 = ( ( data[key]['competencia'] == comp_1 )\n",
    "             & ( data[key]['sector'] == sector )\n",
    "             & ( data[key]['target'] == target )\n",
    "             ) #condition to filter data\n",
    "    yplot_1_data = data[key][ cond_1 ].groupby( 'mes' )[[ 'hits', 'audiencia' ]].agg( np.sum ).reindex( months )\n",
    "    yplot_1 = yplot_1_data[ 'audiencia' ] / yplot_1_data[ 'hits' ] #avg audience per spot\n",
    "\n",
    "    cond_2 = ( ( data[key]['competencia'] == comp_2 )\n",
    "             & ( data[key]['sector'] == sector )\n",
    "             & ( data[key]['target'] == target )\n",
    "             ) #condition to filter data\n",
    "    yplot_2_data = data[key][ cond_2 ].groupby( 'mes' )[[ 'hits', 'audiencia' ]].agg( np.sum ).reindex( months )\n",
    "    yplot_2 = yplot_2_data[ 'audiencia' ] / yplot_2_data[ 'hits' ] #avg audience per spot\n",
    "    \n",
    "    #initialise plot\n",
    "    fig = go.Figure()\n",
    "    fig.update_layout( title='Audiencia promedio por spot en el tiempo',\n",
    "                       xaxis_title='Mes',\n",
    "                       yaxis_title='Audiencia promedio por spot' )\n",
    "    \n",
    "    #plot plot!\n",
    "    fig.add_trace( go.Scatter( x=yplot_1.index, y=yplot_1, name=comp_1 ) )\n",
    "    fig.add_trace( go.Scatter( x=yplot_2.index, y=yplot_2, name=comp_2 ) )\n",
    "    \n",
    "    #finalise plot\n",
    "    fig.update_layout( hovermode='x' )\n",
    "    fig.show()\n",
    "\n",
    "#display interactive widget\n",
    "idisp.display( widg.interactive( plot_audSpot_2stationss_time, comp_1=comp_1_widg, comp_2=comp_2_widg,\n",
    "                                 sector=sector_widg, target=target_widg ) )\n"
   ]
  },
  {
   "cell_type": "code",
   "execution_count": 14,
   "metadata": {},
   "outputs": [
    {
     "data": {
      "application/vnd.jupyter.widget-view+json": {
       "model_id": "bccb587566f347d4b9f378a79fe5f347",
       "version_major": 2,
       "version_minor": 0
      },
      "text/plain": [
       "interactive(children=(Dropdown(description='Compañía:', index=950, options=('3 Hermanos', 'A.A. Alcohólicos An…"
      ]
     },
     "metadata": {},
     "output_type": "display_data"
    }
   ],
   "source": [
    "#plot spots-audience correlation for stations in groups\n",
    "\n",
    "key = 'join' #dataset key = auditsa, inra, join\n",
    "\n",
    "#default values\n",
    "company_def = 'Gobierno de México'\n",
    "mes_def = months\n",
    "plaza_def = data[key]['plaza'].sort_values().unique().tolist()\n",
    "estudio_def = 'Mediómetro'\n",
    "target_def = 'Total Población'\n",
    "\n",
    "#company\n",
    "company_widg = widg.Dropdown( options=data[key]['compania'].sort_values().unique(),\n",
    "                               value=company_def,\n",
    "                               description='Compañía:' )\n",
    "#month\n",
    "mes_widg = widg.SelectMultiple( options=mes_def, value=mes_def, description='Mes:' )\n",
    "#place\n",
    "plaza_widg = widg.SelectMultiple( options=plaza_def, value=plaza_def, description='Plaza:' )\n",
    "#estudio\n",
    "estudio_widg = widg.Dropdown( options=data[key]['estudio'].sort_values().unique(),\n",
    "                             value=estudio_def,\n",
    "                             description='Estudio:' )\n",
    "#target\n",
    "target_widg = widg.RadioButtons( options=data[key]['target'].sort_values().unique(),\n",
    "                                 value=target_def,\n",
    "                                 description='Target:' )\n",
    "    \n",
    "#plot spots-audience correlation for stations in groups\n",
    "def plot_audSpot_corr_stations( company, mes, plaza, estudio, target ):\n",
    "\n",
    "    cond = ( ( data[key]['compania'] == company )\n",
    "           & ( data[key]['mes'].isin( mes ) )\n",
    "           & ( data[key]['plaza'].isin( plaza ) )\n",
    "           & ( data[key]['estudio'] == estudio )\n",
    "           & ( data[key]['target'] == target )\n",
    "           ) #condition to filter data\n",
    "    yplot = data[key][ cond ].groupby( 'estacion' )[[ 'hits', 'audiencia', 'competencia' ]].agg({\n",
    "                                     'hits' : np.sum, 'audiencia' : np.sum, 'competencia' : 'first' })    \n",
    "    \n",
    "    #initialise plot\n",
    "    fig = go.Figure()\n",
    "    fig.update_layout( title='Correlación spots-audiencia en estaciones por grupo competencia',\n",
    "                       xaxis_title='Número de spots',\n",
    "                       yaxis_title='Audiencia' )\n",
    "    \n",
    "    #plot plot!\n",
    "    for yplot_name, yplot_group in yplot.groupby( 'competencia' ): #loop through groups by competencia\n",
    "        fig.add_trace( go.Scatter( x=yplot_group.hits, y=yplot_group.audiencia, text=yplot_group.index,\n",
    "                                   name=yplot_name, mode='markers', marker_size=plot_props['ms'],\n",
    "                                   opacity=0.8 ) )\n",
    "    \n",
    "    #finalise plot\n",
    "    fig.update_layout( xaxis_showspikes=True, yaxis_showspikes=True  )\n",
    "    fig.show()\n",
    "\n",
    "#display interactive widget\n",
    "idisp.display( widg.interactive( plot_audSpot_corr_stations, company=company_widg,\n",
    "                                 mes=mes_widg, plaza=plaza_widg, estudio=estudio_widg, target=target_widg ) )\n"
   ]
  },
  {
   "cell_type": "code",
   "execution_count": 15,
   "metadata": {},
   "outputs": [
    {
     "data": {
      "application/vnd.jupyter.widget-view+json": {
       "model_id": "16f8cf1fd4414c0daa7884d124462446",
       "version_major": 2,
       "version_minor": 0
      },
      "text/plain": [
       "interactive(children=(Dropdown(description='Sector:', index=4, options=('AGROPECUARIA/ANIMALES DOMESTICOS', 'A…"
      ]
     },
     "metadata": {},
     "output_type": "display_data"
    }
   ],
   "source": [
    "#plot spots-audience correlation for company across groups\n",
    "\n",
    "key = 'join' #dataset key = auditsa, inra, join\n",
    "\n",
    "#default values\n",
    "sector_def = 'BEBIDAS'\n",
    "comp_def = data[key]['competencia'].sort_values().dropna().unique().tolist()\n",
    "mes_def = months\n",
    "plaza_def = data[key]['plaza'].sort_values().unique().tolist()\n",
    "estudio_def = 'Mediómetro'\n",
    "target_def = 'Total Población'\n",
    "\n",
    "#sector\n",
    "sector_widg = widg.Dropdown( options=data[key]['sector'].sort_values().dropna().unique(),\n",
    "                             value=sector_def,\n",
    "                             description='Sector:' )\n",
    "#group\n",
    "comp_widg = widg.SelectMultiple( options=comp_def, value=comp_def, description='Grupo:' )\n",
    "#month\n",
    "mes_widg = widg.SelectMultiple( options=mes_def, value=mes_def, description='Mes:' )\n",
    "#place\n",
    "plaza_widg = widg.SelectMultiple( options=plaza_def, value=plaza_def, description='Plaza:' )\n",
    "#estudio\n",
    "estudio_widg = widg.Dropdown( options=data[key]['estudio'].sort_values().unique(),\n",
    "                              value=estudio_def,\n",
    "                              description='Estudio:' )\n",
    "#target\n",
    "target_widg = widg.RadioButtons( options=data[key]['target'].sort_values().unique(),\n",
    "                                 value=target_def,\n",
    "                                 description='Target:' )\n",
    "    \n",
    "#plot spots-audience correlation for company across groups\n",
    "def plot_audSpot_corr_companies( sector, comp, mes, plaza, estudio, target ):\n",
    "\n",
    "    cond = ( ( data[key]['sector'] == sector )\n",
    "           & ( data[key]['competencia'].isin( comp ) )\n",
    "           & ( data[key]['mes'].isin( mes ) )\n",
    "           & ( data[key]['plaza'].isin( plaza ) )\n",
    "           & ( data[key]['estudio'] == estudio )\n",
    "           & ( data[key]['target'] == target )\n",
    "           ) #condition to filter data\n",
    "    yplot = data[key][ cond ].groupby([ 'compania', 'competencia' ], as_index=False)[[ 'hits', 'audiencia'\n",
    "                                                                                    ]].agg( np.sum )\n",
    "\n",
    "    #initialise plot\n",
    "    fig = go.Figure()\n",
    "    fig.update_layout( title='Correlación spots-audiencia en compañías por grupo competencia',\n",
    "                       xaxis_title='Número de spots',\n",
    "                       yaxis_title='Audiencia' )\n",
    "    \n",
    "    #plot plot!\n",
    "    for yplot_name, yplot_group in yplot.groupby( 'competencia' ): #loop through groups by competencia\n",
    "        fig.add_trace( go.Scatter( x=yplot_group.hits, y=yplot_group.audiencia, text=yplot_group.compania,\n",
    "                                   name=yplot_name, mode='markers', marker_size=plot_props['ms'],\n",
    "                                   opacity=0.8 ) )\n",
    "    \n",
    "    #finalise plot\n",
    "    fig.update_layout( xaxis_type='log', xaxis_showspikes=True, yaxis_type='log', yaxis_showspikes=True  )\n",
    "    fig.show()\n",
    "\n",
    "#display interactive widget\n",
    "idisp.display( widg.interactive( plot_audSpot_corr_companies, sector=sector_widg, comp=comp_widg,\n",
    "                                 mes=mes_widg, plaza=plaza_widg, estudio=estudio_widg, target=target_widg ) )\n"
   ]
  },
  {
   "cell_type": "code",
   "execution_count": 16,
   "metadata": {},
   "outputs": [
    {
     "data": {
      "application/vnd.jupyter.widget-view+json": {
       "model_id": "7fe6f42693644e2298c543d2080f4f12",
       "version_major": 2,
       "version_minor": 0
      },
      "text/plain": [
       "interactive(children=(Dropdown(description='Compañía:', index=432, options=('3 Hermanos', 'A.A. Alcohólicos An…"
      ]
     },
     "metadata": {},
     "output_type": "display_data"
    }
   ],
   "source": [
    "#plot ROI measure in map for company\n",
    "\n",
    "key = 'join' #dataset key = auditsa, inra, join\n",
    "\n",
    "#set up place coordinates\n",
    "plazas = data[key]['plaza'].sort_values().unique()\n",
    "plaza_coords = pd.DataFrame( np.zeros( ( len(plazas), 2 ) ), index=pd.Series( plazas, name='plaza'),\n",
    "                             columns=pd.Series( [ 'lat', 'lon' ], name='coords' ) )\n",
    "plaza_coords.loc[ 'Cd Juárez', : ] = 31.6904, -106.4245\n",
    "plaza_coords.loc[ 'Ciudad de México', : ] = 19.4326, -99.1332\n",
    "plaza_coords.loc[ 'Cuernavaca', : ] = 18.9242, -99.2216\n",
    "plaza_coords.loc[ 'Guadalajara', : ] = 20.6597, -103.3496\n",
    "plaza_coords.loc[ 'Monterrey', : ] = 25.6866, -100.3161\n",
    "plaza_coords.loc[ 'Puebla', : ] = 19.0414, -98.2063\n",
    "#plaza_coords.loc[ 'Zapopan (GDL)', : ] = 20.6720, -103.4165\n",
    "\n",
    "colors = ['rgb(27,158,119)','rgb(217,95,2)','rgb(117,112,179)','rgb(231,41,138)','rgb(102,166,30)','rgb(230,171,2)']\n",
    "\n",
    "#default values\n",
    "company_def = 'Coca-Cola'\n",
    "comp_def = data[key]['competencia'].sort_values().dropna().unique().tolist()\n",
    "mes_def = months\n",
    "estudio_def = 'Mediómetro'\n",
    "target_def = 'Total Población'\n",
    "\n",
    "#company\n",
    "company_widg = widg.Dropdown( options=data[key]['compania'].sort_values().unique(),\n",
    "                               value=company_def,\n",
    "                               description='Compañía:' )\n",
    "#group\n",
    "comp_widg = widg.SelectMultiple( options=comp_def, value=comp_def, description='Grupo:' )\n",
    "#month\n",
    "mes_widg = widg.SelectMultiple( options=mes_def, value=mes_def, description='Mes:' )\n",
    "#estudio\n",
    "estudio_widg = widg.Dropdown( options=data[key]['estudio'].sort_values().unique(),\n",
    "                              value=estudio_def,\n",
    "                              description='Estudio:' )\n",
    "#target\n",
    "target_widg = widg.RadioButtons( options=data[key]['target'].sort_values().unique(),\n",
    "                                 value=target_def,\n",
    "                                 description='Target:' )\n",
    "  \n",
    "#plot ROI measure in map for company\n",
    "def plot_map_company( company, comp, mes, estudio, target ):\n",
    "\n",
    "    cond = ( ( data[key]['compania'] == company )\n",
    "           & ( data[key]['competencia'].isin( comp ) )\n",
    "           & ( data[key]['mes'].isin( mes ) )\n",
    "           & ( data[key]['estudio'] == estudio )\n",
    "           & ( data[key]['target'] == target )\n",
    "           ) #condition to filter data\n",
    "    yplot_data = data[key][ cond ].groupby( 'plaza' )[[ 'hits', 'audiencia' ]].agg( np.sum )\n",
    "    plaza_coords['yplot'] = yplot_data[ 'audiencia' ] / yplot_data[ 'hits' ]\n",
    "    plaza_coords.fillna( 0, inplace=True )\n",
    "\n",
    "    plaza_coords['text'] = ''\n",
    "    for plaza in plazas:\n",
    "        plaza_coords.loc[ plaza, 'text' ] = plaza+'<br>ROI: {:.2f}'.format( plaza_coords.loc[plaza]['yplot'] )\n",
    "\n",
    "    #initialise plot\n",
    "    fig = go.Figure()\n",
    "    fig.update_layout( title='ROI (audiencia promedio por spot) para compañía en plazas' )\n",
    "\n",
    "    #plot plot!\n",
    "    fig.add_trace(\n",
    "        go.Scattergeo(\n",
    "            lat=plaza_coords.lat, lon=plaza_coords.lon, text=plaza_coords.text,\n",
    "            marker=dict(\n",
    "                size=plaza_coords.yplot,\n",
    "                sizemode='area',\n",
    "                sizeref=2.*max( plaza_coords.yplot )/(50.**2),\n",
    "                sizemin=4,\n",
    "                color=colors\n",
    "            )\n",
    "        )\n",
    "    )\n",
    "\n",
    "    #finalise plot\n",
    "    fig.update_layout(\n",
    "        geo = dict(\n",
    "            lataxis_range=[ 14, 33 ],\n",
    "            lonaxis_range=[ -118, -86 ],\n",
    "            showcountries=True,\n",
    "            projection_type='natural earth'\n",
    "        )\n",
    "    )\n",
    "    fig.show()\n",
    "\n",
    "#display interactive widget\n",
    "idisp.display( widg.interactive( plot_map_company, sector=sector_widg, company=company_widg, comp=comp_widg,\n",
    "                                 mes=mes_widg, estudio=estudio_widg, target=target_widg ) )\n"
   ]
  },
  {
   "cell_type": "code",
   "execution_count": 17,
   "metadata": {},
   "outputs": [
    {
     "data": {
      "text/markdown": [
       "## <span style=\"color: rgb(0,71,187)\">Información adicional</span>"
      ],
      "text/plain": [
       "<IPython.core.display.Markdown object>"
      ]
     },
     "metadata": {},
     "output_type": "display_data"
    }
   ],
   "source": [
    "html( '##', 'Información adicional' )"
   ]
  },
  {
   "cell_type": "code",
   "execution_count": 18,
   "metadata": {
    "scrolled": true
   },
   "outputs": [
    {
     "data": {
      "text/markdown": [
       "### <span style=\"color: rgb(0,71,187)\">Columnas en datos</span>"
      ],
      "text/plain": [
       "<IPython.core.display.Markdown object>"
      ]
     },
     "metadata": {},
     "output_type": "display_data"
    }
   ],
   "source": [
    "html( '###', 'Columnas en datos' )"
   ]
  },
  {
   "cell_type": "code",
   "execution_count": 19,
   "metadata": {},
   "outputs": [
    {
     "data": {
      "application/vnd.jupyter.widget-view+json": {
       "model_id": "0de73ff3cca94b96954d6a55d5584586",
       "version_major": 2,
       "version_minor": 0
      },
      "text/plain": [
       "interactive(children=(Dropdown(description='Base:', options=('auditsa', 'inra', 'join'), value='auditsa'), Out…"
      ]
     },
     "metadata": {},
     "output_type": "display_data"
    }
   ],
   "source": [
    "#get columns in dataset\n",
    "\n",
    "base_def = 'auditsa'\n",
    "\n",
    "base_widg = widg.Dropdown( options=list(data), value=base_def, description='Base:' )\n",
    "\n",
    "def columns_dataset( base ):\n",
    "    for col in data[ base ].columns:\n",
    "        print(col)\n",
    "        \n",
    "idisp.display( widg.interactive( columns_dataset, base=base_widg ) ) #get columns in dataset\n"
   ]
  },
  {
   "cell_type": "code",
   "execution_count": 20,
   "metadata": {},
   "outputs": [
    {
     "data": {
      "text/markdown": [
       "### <span style=\"color: rgb(0,71,187)\">Elementos más comunes</span>"
      ],
      "text/plain": [
       "<IPython.core.display.Markdown object>"
      ]
     },
     "metadata": {},
     "output_type": "display_data"
    }
   ],
   "source": [
    "html( '###', 'Elementos más comunes' )"
   ]
  },
  {
   "cell_type": "code",
   "execution_count": 21,
   "metadata": {},
   "outputs": [
    {
     "data": {
      "text/markdown": [
       "#### <span style=\"color: rgb(0,71,187)\">Auditsa</span>"
      ],
      "text/plain": [
       "<IPython.core.display.Markdown object>"
      ]
     },
     "metadata": {},
     "output_type": "display_data"
    },
    {
     "data": {
      "application/vnd.jupyter.widget-view+json": {
       "model_id": "462b85ff39204b68835466a4ea311d0b",
       "version_major": 2,
       "version_minor": 0
      },
      "text/plain": [
       "interactive(children=(Dropdown(description='Columna:', options=('categoria', 'compania', 'competencia', 'estac…"
      ]
     },
     "metadata": {},
     "output_type": "display_data"
    }
   ],
   "source": [
    "#get top elements in column\n",
    "\n",
    "html( '####', 'Auditsa' )\n",
    "\n",
    "key = 'auditsa'\n",
    "top_def = 30\n",
    "\n",
    "col_widg = widg.Dropdown( options=data[key].columns, value=data[key].columns[0], description='Columna:' )\n",
    "top_widg = widg.IntText( value=top_def, description='Top:' )\n",
    "\n",
    "def top_elements_column( col, top ):\n",
    "    print( data[key][ col ].value_counts()[:top] )\n",
    "    \n",
    "idisp.display( widg.interactive( top_elements_column, col=col_widg, top=top_widg ) ) #get top elements in column\n"
   ]
  },
  {
   "cell_type": "code",
   "execution_count": 22,
   "metadata": {
    "scrolled": true
   },
   "outputs": [
    {
     "data": {
      "text/markdown": [
       "#### <span style=\"color: rgb(0,71,187)\">Inra</span>"
      ],
      "text/plain": [
       "<IPython.core.display.Markdown object>"
      ]
     },
     "metadata": {},
     "output_type": "display_data"
    },
    {
     "data": {
      "application/vnd.jupyter.widget-view+json": {
       "model_id": "3565f556f36c4dfbad775a8f76a0ea10",
       "version_major": 2,
       "version_minor": 0
      },
      "text/plain": [
       "interactive(children=(Dropdown(description='Columna:', options=('plaza', 'mes', 'estudio', 'dias', 'target', '…"
      ]
     },
     "metadata": {},
     "output_type": "display_data"
    }
   ],
   "source": [
    "#get top elements in column\n",
    "\n",
    "html( '####', 'Inra' )\n",
    "\n",
    "key = 'inra'\n",
    "top_def = 30\n",
    "\n",
    "col_widg = widg.Dropdown( options=data[key].columns, value=data[key].columns[0], description='Columna:' )\n",
    "top_widg = widg.IntText( value=top_def, description='Top:' )\n",
    "\n",
    "def top_elements_column( col, top ):\n",
    "    print( data[key][ col ].value_counts()[:top] )\n",
    "    \n",
    "idisp.display( widg.interactive( top_elements_column, col=col_widg, top=top_widg ) ) #get top elements in column\n"
   ]
  },
  {
   "cell_type": "code",
   "execution_count": 23,
   "metadata": {},
   "outputs": [
    {
     "data": {
      "text/markdown": [
       "#### <span style=\"color: rgb(0,71,187)\">Cruce</span>"
      ],
      "text/plain": [
       "<IPython.core.display.Markdown object>"
      ]
     },
     "metadata": {},
     "output_type": "display_data"
    },
    {
     "data": {
      "application/vnd.jupyter.widget-view+json": {
       "model_id": "c5c017a1267241e2bd3c627eb136323e",
       "version_major": 2,
       "version_minor": 0
      },
      "text/plain": [
       "interactive(children=(Dropdown(description='Columna:', options=('mes', 'plaza', 'estacion', 'grupo', 'competen…"
      ]
     },
     "metadata": {},
     "output_type": "display_data"
    }
   ],
   "source": [
    "#get top elements in column\n",
    "\n",
    "html( '####', 'Cruce' )\n",
    "\n",
    "key = 'join'\n",
    "top_def = 30\n",
    "\n",
    "col_widg = widg.Dropdown( options=data[key].columns, value=data[key].columns[0], description='Columna:' )\n",
    "top_widg = widg.IntText( value=top_def, description='Top:' )\n",
    "\n",
    "def top_elements_column( col, top ):\n",
    "    print( data[key][ col ].value_counts()[:top] )\n",
    "    \n",
    "idisp.display( widg.interactive( top_elements_column, col=col_widg, top=top_widg ) ) #get top elements in column\n"
   ]
  },
  {
   "cell_type": "code",
   "execution_count": 24,
   "metadata": {
    "scrolled": true
   },
   "outputs": [
    {
     "data": {
      "text/markdown": [
       "### <span style=\"color: rgb(0,71,187)\">Estaciones por plaza</span>"
      ],
      "text/plain": [
       "<IPython.core.display.Markdown object>"
      ]
     },
     "metadata": {},
     "output_type": "display_data"
    }
   ],
   "source": [
    "html( '###', 'Estaciones por plaza' )"
   ]
  },
  {
   "cell_type": "code",
   "execution_count": 25,
   "metadata": {},
   "outputs": [
    {
     "data": {
      "text/markdown": [
       "#### <span style=\"color: rgb(0,71,187)\">Auditsa</span>"
      ],
      "text/plain": [
       "<IPython.core.display.Markdown object>"
      ]
     },
     "metadata": {},
     "output_type": "display_data"
    },
    {
     "data": {
      "application/vnd.jupyter.widget-view+json": {
       "model_id": "f0286f379d7a49fb95070cac11c1e3e3",
       "version_major": 2,
       "version_minor": 0
      },
      "text/plain": [
       "interactive(children=(Dropdown(description='Plaza:', index=1, options=('Cd Juárez', 'Ciudad de México', 'Cuern…"
      ]
     },
     "metadata": {},
     "output_type": "display_data"
    }
   ],
   "source": [
    "#get stations per place\n",
    "\n",
    "html( '####', 'Auditsa' )\n",
    "\n",
    "key = 'auditsa'\n",
    "plaza_def = 'Ciudad de México'\n",
    "\n",
    "plaza_widg = widg.Dropdown( options=data[key]['plaza'].sort_values().unique(), value=plaza_def, description='Plaza:' )\n",
    "\n",
    "def stations_place( plaza ):\n",
    "    group_plaza = data[key].groupby( 'plaza' ).get_group( plaza )\n",
    "    \n",
    "    for estacion in group_plaza['estacion'].sort_values().unique():\n",
    "        print( estacion )\n",
    "        \n",
    "idisp.display( widg.interactive( stations_place, plaza=plaza_widg ) ) #get stations per place\n"
   ]
  },
  {
   "cell_type": "code",
   "execution_count": 26,
   "metadata": {},
   "outputs": [
    {
     "data": {
      "text/markdown": [
       "#### <span style=\"color: rgb(0,71,187)\">Inra</span>"
      ],
      "text/plain": [
       "<IPython.core.display.Markdown object>"
      ]
     },
     "metadata": {},
     "output_type": "display_data"
    },
    {
     "data": {
      "application/vnd.jupyter.widget-view+json": {
       "model_id": "ff45c8ea652f4e108f76f9a95a8bf0fa",
       "version_major": 2,
       "version_minor": 0
      },
      "text/plain": [
       "interactive(children=(Dropdown(description='Plaza:', index=1, options=('Cd Juárez', 'Ciudad de México', 'Cuern…"
      ]
     },
     "metadata": {},
     "output_type": "display_data"
    }
   ],
   "source": [
    "#get stations per place\n",
    "\n",
    "html( '####', 'Inra' )\n",
    "\n",
    "key = 'inra'\n",
    "plaza_def = 'Ciudad de México'\n",
    "\n",
    "plaza_widg = widg.Dropdown( options=data[key]['plaza'].sort_values().unique(), value=plaza_def, description='Plaza:' )\n",
    "\n",
    "def stations_place( plaza ):\n",
    "    group_plaza = data[key].groupby( 'plaza' ).get_group( plaza )\n",
    "    \n",
    "    for estacion in group_plaza['estacion'].sort_values().unique():\n",
    "        print( estacion )\n",
    "        \n",
    "idisp.display( widg.interactive( stations_place, plaza=plaza_widg ) ) #get stations per place\n"
   ]
  },
  {
   "cell_type": "code",
   "execution_count": 27,
   "metadata": {},
   "outputs": [
    {
     "data": {
      "text/markdown": [
       "#### <span style=\"color: rgb(0,71,187)\">Cruce</span>"
      ],
      "text/plain": [
       "<IPython.core.display.Markdown object>"
      ]
     },
     "metadata": {},
     "output_type": "display_data"
    },
    {
     "data": {
      "application/vnd.jupyter.widget-view+json": {
       "model_id": "762139f2f6084a62b98abc5f1d6c36e9",
       "version_major": 2,
       "version_minor": 0
      },
      "text/plain": [
       "interactive(children=(Dropdown(description='Plaza:', index=1, options=('Cd Juárez', 'Ciudad de México', 'Cuern…"
      ]
     },
     "metadata": {},
     "output_type": "display_data"
    }
   ],
   "source": [
    "#get stations per place\n",
    "\n",
    "html( '####', 'Cruce' )\n",
    "\n",
    "key = 'join'\n",
    "plaza_def = 'Ciudad de México'\n",
    "\n",
    "plaza_widg = widg.Dropdown( options=data[key]['plaza'].sort_values().unique(), value=plaza_def, description='Plaza:' )\n",
    "\n",
    "def stations_place( plaza ):\n",
    "    group_plaza = data[key].groupby( 'plaza' ).get_group( plaza )\n",
    "    \n",
    "    for estacion in group_plaza['estacion'].sort_values().unique():\n",
    "        print( estacion )\n",
    "        \n",
    "idisp.display( widg.interactive( stations_place, plaza=plaza_widg ) ) #get stations per place\n"
   ]
  }
 ],
 "metadata": {
  "hide_input": false,
  "kernelspec": {
   "display_name": "Python 3",
   "language": "python",
   "name": "python3"
  },
  "language_info": {
   "codemirror_mode": {
    "name": "ipython",
    "version": 3
   },
   "file_extension": ".py",
   "mimetype": "text/x-python",
   "name": "python",
   "nbconvert_exporter": "python",
   "pygments_lexer": "ipython3",
   "version": "3.7.3"
  },
  "varInspector": {
   "cols": {
    "lenName": 16,
    "lenType": 16,
    "lenVar": 40
   },
   "kernels_config": {
    "python": {
     "delete_cmd_postfix": "",
     "delete_cmd_prefix": "del ",
     "library": "var_list.py",
     "varRefreshCmd": "print(var_dic_list())"
    },
    "r": {
     "delete_cmd_postfix": ") ",
     "delete_cmd_prefix": "rm(",
     "library": "var_list.r",
     "varRefreshCmd": "cat(var_dic_list()) "
    }
   },
   "types_to_exclude": [
    "module",
    "function",
    "builtin_function_or_method",
    "instance",
    "_Feature"
   ],
   "window_display": false
  }
 },
 "nbformat": 4,
 "nbformat_minor": 2
}
