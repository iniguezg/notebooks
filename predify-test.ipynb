{
 "cells": [
  {
   "cell_type": "markdown",
   "metadata": {},
   "source": [
    "<img src=\"images/logo.png\" width=\"300\">"
   ]
  },
  {
   "cell_type": "code",
   "execution_count": 1,
   "metadata": {},
   "outputs": [],
   "source": [
    "#import modules\n",
    "\n",
    "import numpy as np\n",
    "import pandas as pd\n",
    "import ipywidgets as widg\n",
    "import IPython.display as idisp\n",
    "import plotly.graph_objects as go\n"
   ]
  },
  {
   "cell_type": "code",
   "execution_count": 2,
   "metadata": {},
   "outputs": [],
   "source": [
    "#color functions\n",
    "\n",
    "predify_color = '0,71,187' #Predify dark blue\n",
    "\n",
    "#print markdown text in color\n",
    "def html( prefix, text ):\n",
    "    idisp.display( idisp.Markdown( '{} <span style=\"color: rgb({})\">{}</span>'.format( prefix, predify_color, text ) ) )\n"
   ]
  },
  {
   "cell_type": "code",
   "execution_count": 3,
   "metadata": {},
   "outputs": [
    {
     "data": {
      "text/markdown": [
       "# <span style=\"color: rgb(0,71,187)\">Análisis de spots (Auditsa) y ratings (Inra) en la radio mexicana</span>"
      ],
      "text/plain": [
       "<IPython.core.display.Markdown object>"
      ]
     },
     "metadata": {},
     "output_type": "display_data"
    }
   ],
   "source": [
    "html( '#', 'Análisis de spots (Auditsa) y ratings (Inra) en la radio mexicana' )"
   ]
  },
  {
   "cell_type": "code",
   "execution_count": 4,
   "metadata": {},
   "outputs": [],
   "source": [
    "#initial settings\n",
    "\n",
    "loadflag = 'y' #load files ('y') or calculate from scratch ('n')\n",
    "\n",
    "dataloc = 'data/' #location of raw datafiles\n",
    "imgloc = 'images/' #location of images\n",
    "\n",
    "#plot settings\n",
    "\n",
    "plot_props = { 'marker' : 'o',\n",
    "    'ms' : 12,\n",
    "    'ls' : '-',\n",
    "    'lw' : 3,\n",
    "    'fontsize' : 20,\n",
    "    'xylabel' : 20,\n",
    "    'ticklabel' : 15,\n",
    "    'legend_prop' : { 'size':15 },\n",
    "    'legend_hlen' : 2,\n",
    "    'legend_np' : 2 }\n"
   ]
  },
  {
   "cell_type": "code",
   "execution_count": 5,
   "metadata": {},
   "outputs": [],
   "source": [
    "#data loading\n",
    "\n",
    "savename = dataloc+'data.h5' #HDF5 savename\n",
    "\n",
    "data = {} #raw data\n",
    "data['auditsa'] = pd.read_hdf( savename, key='auditsa' )\n",
    "data['inra'] = pd.read_hdf( savename, key='inra' )\n"
   ]
  },
  {
   "cell_type": "code",
   "execution_count": 6,
   "metadata": {},
   "outputs": [
    {
     "data": {
      "text/markdown": [
       "### <span style=\"color: rgb(0,71,187)\">Columnas en datos</span>"
      ],
      "text/plain": [
       "<IPython.core.display.Markdown object>"
      ]
     },
     "metadata": {},
     "output_type": "display_data"
    }
   ],
   "source": [
    "html( '###', 'Columnas en datos' )"
   ]
  },
  {
   "cell_type": "code",
   "execution_count": 7,
   "metadata": {},
   "outputs": [
    {
     "data": {
      "application/vnd.jupyter.widget-view+json": {
       "model_id": "b652cff56bb8410ebeea1e6b30857deb",
       "version_major": 2,
       "version_minor": 0
      },
      "text/plain": [
       "interactive(children=(Dropdown(description='base', options=('auditsa', 'inra'), value='auditsa'), Output()), _…"
      ]
     },
     "metadata": {},
     "output_type": "display_data"
    }
   ],
   "source": [
    "#get columns in dataset\n",
    "\n",
    "def columns_dataset( base ):\n",
    "    for col in data[ base ].columns:\n",
    "        print(col)\n",
    "        \n",
    "idisp.display( widg.interactive( columns_dataset, base=data.keys() ) ) #get columns in dataset\n"
   ]
  },
  {
   "cell_type": "code",
   "execution_count": 8,
   "metadata": {},
   "outputs": [
    {
     "data": {
      "text/markdown": [
       "### <span style=\"color: rgb(0,71,187)\">Elementos más comunes</span>"
      ],
      "text/plain": [
       "<IPython.core.display.Markdown object>"
      ]
     },
     "metadata": {},
     "output_type": "display_data"
    }
   ],
   "source": [
    "html( '###', 'Elementos más comunes' )"
   ]
  },
  {
   "cell_type": "code",
   "execution_count": 9,
   "metadata": {},
   "outputs": [
    {
     "data": {
      "text/markdown": [
       "### <span style=\"color: rgb(0,71,187)\">Auditsa</span>"
      ],
      "text/plain": [
       "<IPython.core.display.Markdown object>"
      ]
     },
     "metadata": {},
     "output_type": "display_data"
    },
    {
     "data": {
      "application/vnd.jupyter.widget-view+json": {
       "model_id": "bbc2bb0ebb634b3fa290c28e0456888c",
       "version_major": 2,
       "version_minor": 0
      },
      "text/plain": [
       "interactive(children=(Dropdown(description='columna', options=('categoria', 'compania', 'competencia', 'estaci…"
      ]
     },
     "metadata": {},
     "output_type": "display_data"
    }
   ],
   "source": [
    "#get top elements in column\n",
    "\n",
    "def top_elements_column( df, columna, top ):\n",
    "    print( df[ columna ].value_counts()[:top] )\n",
    "\n",
    "html( '###', 'Auditsa' )\n",
    "    \n",
    "idisp.display( widg.interactive( top_elements_column, df=widg.fixed( data['auditsa'] ),\n",
    "                                 columna=data['auditsa'].columns, top=(1, 30) ) ) #get top elements in column\n"
   ]
  },
  {
   "cell_type": "code",
   "execution_count": 10,
   "metadata": {},
   "outputs": [
    {
     "data": {
      "text/markdown": [
       "### <span style=\"color: rgb(0,71,187)\">Inra</span>"
      ],
      "text/plain": [
       "<IPython.core.display.Markdown object>"
      ]
     },
     "metadata": {},
     "output_type": "display_data"
    },
    {
     "data": {
      "application/vnd.jupyter.widget-view+json": {
       "model_id": "0769d64a12514d8e9d37ecd6b177e9af",
       "version_major": 2,
       "version_minor": 0
      },
      "text/plain": [
       "interactive(children=(Dropdown(description='columna', options=('plaza', 'mes', 'estudio', 'dias', 'target', 'u…"
      ]
     },
     "metadata": {},
     "output_type": "display_data"
    }
   ],
   "source": [
    "html( '###', 'Inra' )\n",
    "\n",
    "idisp.display( widg.interactive( top_elements_column, df=widg.fixed( data['inra'] ),\n",
    "                                 columna=data['inra'].columns, top=(1, 30) ) ) #get top elements in column\n"
   ]
  },
  {
   "cell_type": "code",
   "execution_count": 11,
   "metadata": {},
   "outputs": [
    {
     "data": {
      "text/markdown": [
       "### <span style=\"color: rgb(0,71,187)\">Estaciones por plaza</span>"
      ],
      "text/plain": [
       "<IPython.core.display.Markdown object>"
      ]
     },
     "metadata": {},
     "output_type": "display_data"
    }
   ],
   "source": [
    "html( '###', 'Estaciones por plaza' )"
   ]
  },
  {
   "cell_type": "code",
   "execution_count": 12,
   "metadata": {},
   "outputs": [
    {
     "data": {
      "text/markdown": [
       "### <span style=\"color: rgb(0,71,187)\">Auditsa</span>"
      ],
      "text/plain": [
       "<IPython.core.display.Markdown object>"
      ]
     },
     "metadata": {},
     "output_type": "display_data"
    },
    {
     "data": {
      "application/vnd.jupyter.widget-view+json": {
       "model_id": "60054f9afd62452eba135e1da380dbb7",
       "version_major": 2,
       "version_minor": 0
      },
      "text/plain": [
       "interactive(children=(Dropdown(description='plaza', options=('Monterrey', 'Puebla', 'Ciudad de México', 'Cuern…"
      ]
     },
     "metadata": {},
     "output_type": "display_data"
    }
   ],
   "source": [
    "#get stations per place\n",
    "\n",
    "def stations_place( df, plaza ):\n",
    "    group_plaza_auditsa = df.groupby( 'plaza' ).get_group( plaza )\n",
    "    \n",
    "    for estacion in group_plaza_auditsa['estacion'].sort_values().unique():\n",
    "        print( estacion )\n",
    "\n",
    "html( '###', 'Auditsa' )\n",
    "        \n",
    "idisp.display( widg.interactive( stations_place, df=widg.fixed( data['auditsa'] ),\n",
    "                                 plaza=data['auditsa']['plaza'].unique() ) ) #get stations per place"
   ]
  },
  {
   "cell_type": "code",
   "execution_count": 13,
   "metadata": {},
   "outputs": [
    {
     "data": {
      "text/markdown": [
       "### <span style=\"color: rgb(0,71,187)\">Inra</span>"
      ],
      "text/plain": [
       "<IPython.core.display.Markdown object>"
      ]
     },
     "metadata": {},
     "output_type": "display_data"
    },
    {
     "data": {
      "application/vnd.jupyter.widget-view+json": {
       "model_id": "ecb21a9e7302440886d97174ee9c8977",
       "version_major": 2,
       "version_minor": 0
      },
      "text/plain": [
       "interactive(children=(Dropdown(description='plaza', options=('Ciudad de México', 'Monterrey', 'Guadalajara', '…"
      ]
     },
     "metadata": {},
     "output_type": "display_data"
    }
   ],
   "source": [
    "html( '###', 'Inra' )\n",
    "\n",
    "idisp.display( widg.interactive( stations_place, df=widg.fixed( data['inra'] ),\n",
    "                                 plaza=data['inra']['plaza'].unique() ) ) #get stations per place"
   ]
  },
  {
   "cell_type": "code",
   "execution_count": 14,
   "metadata": {},
   "outputs": [
    {
     "data": {
      "application/vnd.jupyter.widget-view+json": {
       "model_id": "229ddebc109f491ebcb71af05a7d66c6",
       "version_major": 2,
       "version_minor": 0
      },
      "text/plain": [
       "interactive(children=(Dropdown(description='estacion_1', options=('CDMX XEABC-AM - (760 AM) ABC Radio', 'CDMX …"
      ]
     },
     "metadata": {},
     "output_type": "display_data"
    }
   ],
   "source": [
    "#plot total number of spots in stations\n",
    "\n",
    "months = [ 'enero', 'febrero', 'marzo', 'abril', 'mayo' ] #months in right order\n",
    "\n",
    "#plot total number of spots in stations\n",
    "def plot_spots_station( estacion_1, estacion_2 ):\n",
    "    \n",
    "    cond_1 = data['auditsa']['estacion'] == estacion_1 #condition to filter data\n",
    "    yplot_1 = data['auditsa'][ cond_1 ].groupby( 'mes' )['hits'].agg( np.sum ).reindex( months ) #aggregate by month\n",
    "\n",
    "    cond_2 = data['auditsa']['estacion'] == estacion_2 #condition to filter data\n",
    "    yplot_2 = data['auditsa'][ cond_2 ].groupby( 'mes' )['hits'].agg( np.sum ).reindex( months ) #aggregate by month\n",
    "    \n",
    "    #initialise plot\n",
    "    fig = go.Figure()\n",
    "    fig.update_layout( title='Número de spots en estaciones',\n",
    "                       xaxis_title='mes',\n",
    "                       yaxis_title='Número de spots' )\n",
    "    \n",
    "    #plot plot!\n",
    "    fig.add_trace( go.Scatter( x=yplot_1.index, y=yplot_1, name=estacion_1 ) )\n",
    "    fig.add_trace( go.Scatter( x=yplot_2.index, y=yplot_2, name=estacion_2 ) )\n",
    "    \n",
    "    #finalise plot\n",
    "    fig.show()\n",
    "\n",
    "#display interactive widget\n",
    "idisp.display( widg.interactive( plot_spots_station, estacion_1=data['auditsa']['estacion'].sort_values().unique(),\n",
    "                                 estacion_2=data['auditsa']['estacion'].sort_values().unique() ) )"
   ]
  },
  {
   "cell_type": "code",
   "execution_count": null,
   "metadata": {},
   "outputs": [],
   "source": []
  }
 ],
 "metadata": {
  "hide_input": false,
  "kernelspec": {
   "display_name": "Python 3",
   "language": "python",
   "name": "python3"
  },
  "language_info": {
   "codemirror_mode": {
    "name": "ipython",
    "version": 3
   },
   "file_extension": ".py",
   "mimetype": "text/x-python",
   "name": "python",
   "nbconvert_exporter": "python",
   "pygments_lexer": "ipython3",
   "version": "3.7.3"
  },
  "varInspector": {
   "cols": {
    "lenName": 16,
    "lenType": 16,
    "lenVar": 40
   },
   "kernels_config": {
    "python": {
     "delete_cmd_postfix": "",
     "delete_cmd_prefix": "del ",
     "library": "var_list.py",
     "varRefreshCmd": "print(var_dic_list())"
    },
    "r": {
     "delete_cmd_postfix": ") ",
     "delete_cmd_prefix": "rm(",
     "library": "var_list.r",
     "varRefreshCmd": "cat(var_dic_list()) "
    }
   },
   "types_to_exclude": [
    "module",
    "function",
    "builtin_function_or_method",
    "instance",
    "_Feature"
   ],
   "window_display": false
  }
 },
 "nbformat": 4,
 "nbformat_minor": 2
}
