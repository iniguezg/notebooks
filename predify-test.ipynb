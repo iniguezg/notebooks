{
 "cells": [
  {
   "cell_type": "markdown",
   "metadata": {},
   "source": [
    "<img src=\"images/logo.png\" width=\"300\">\n",
    "\n",
    "# Análisis de spots (Auditsa) y ratings (Inra) en la radio mexicana"
   ]
  },
  {
   "cell_type": "code",
   "execution_count": 5,
   "metadata": {},
   "outputs": [],
   "source": [
    "#nbi:hide_in\n",
    "#import modules\n",
    "\n",
    "import numpy as np\n",
    "import pandas as pd\n",
    "import ipywidgets as widg\n",
    "import IPython.display as idisp\n",
    "import matplotlib.pyplot as plt\n",
    "import matplotlib.gridspec as gridspec\n"
   ]
  },
  {
   "cell_type": "code",
   "execution_count": 6,
   "metadata": {},
   "outputs": [],
   "source": [
    "#nbi:hide_in\n",
    "#initial settings\n",
    "\n",
    "loadflag = 'y' #load files ('y') or calculate from scratch ('n')\n",
    "\n",
    "dataloc = 'data/' #location of raw datafiles\n",
    "imgloc = 'images/' #location of images\n"
   ]
  },
  {
   "cell_type": "code",
   "execution_count": 7,
   "metadata": {},
   "outputs": [],
   "source": [
    "#nbi:hide_in\n",
    "#data loading\n",
    "\n",
    "savename = dataloc+'data.h5' #HDF5 savename\n",
    "\n",
    "data = pd.HDFStore( savename ) #raw data\n"
   ]
  },
  {
   "cell_type": "markdown",
   "metadata": {},
   "source": [
    "### Columnas en datos"
   ]
  },
  {
   "cell_type": "code",
   "execution_count": 8,
   "metadata": {},
   "outputs": [
    {
     "data": {
      "application/vnd.jupyter.widget-view+json": {
       "model_id": "9164e91e730840aa99b455db9f9b719d",
       "version_major": 2,
       "version_minor": 0
      },
      "text/plain": [
       "interactive(children=(Dropdown(description='base', options=('/auditsa', '/inra'), value='/auditsa'), Output())…"
      ]
     },
     "metadata": {},
     "output_type": "display_data"
    }
   ],
   "source": [
    "#nbi:hide_in\n",
    "#get columns in dataset\n",
    "\n",
    "def columns_dataset( base ):\n",
    "    for col in data[ base ].columns:\n",
    "        print(col)\n",
    "        \n",
    "idisp.display( widg.interactive( columns_dataset, base=data.keys() ) ) #get columns in dataset\n"
   ]
  },
  {
   "cell_type": "markdown",
   "metadata": {},
   "source": [
    "### Elementos más comunes"
   ]
  },
  {
   "cell_type": "code",
   "execution_count": 13,
   "metadata": {},
   "outputs": [
    {
     "data": {
      "text/markdown": [
       "### Auditsa"
      ],
      "text/plain": [
       "<IPython.core.display.Markdown object>"
      ]
     },
     "metadata": {},
     "output_type": "display_data"
    },
    {
     "data": {
      "application/vnd.jupyter.widget-view+json": {
       "model_id": "d4b17ff1962e4f37922064c6e0ed715d",
       "version_major": 2,
       "version_minor": 0
      },
      "text/plain": [
       "interactive(children=(Dropdown(description='columna', options=('categoria', 'compania', 'competencia', 'estaci…"
      ]
     },
     "metadata": {},
     "output_type": "display_data"
    }
   ],
   "source": [
    "#nbi:left\n",
    "#nbi:hide_in\n",
    "#get top elements in column\n",
    "\n",
    "def top_elements_column( df, columna, top ):\n",
    "    print( df[ columna ].value_counts()[:top] )\n",
    "\n",
    "idisp.display( idisp.Markdown( '### Auditsa' ) )\n",
    "    \n",
    "idisp.display( widg.interactive( top_elements_column, df=widg.fixed( data['auditsa'] ),\n",
    "                                 columna=data['auditsa'].columns, top=(1, 30) ) ) #get top elements in column\n"
   ]
  },
  {
   "cell_type": "code",
   "execution_count": 14,
   "metadata": {},
   "outputs": [
    {
     "data": {
      "text/markdown": [
       "### Inra"
      ],
      "text/plain": [
       "<IPython.core.display.Markdown object>"
      ]
     },
     "metadata": {},
     "output_type": "display_data"
    },
    {
     "data": {
      "application/vnd.jupyter.widget-view+json": {
       "model_id": "0473ee171b6d4d25aa7cf1a046bbfca7",
       "version_major": 2,
       "version_minor": 0
      },
      "text/plain": [
       "interactive(children=(Dropdown(description='columna', options=('plaza', 'mes', 'estudio', 'dias', 'target', 'u…"
      ]
     },
     "metadata": {},
     "output_type": "display_data"
    }
   ],
   "source": [
    "#nbi:right\n",
    "#nbi:hide_in\n",
    "\n",
    "idisp.display( idisp.Markdown( '### Inra' ) )\n",
    "\n",
    "idisp.display( widg.interactive( top_elements_column, df=widg.fixed( data['inra'] ),\n",
    "                                 columna=data['inra'].columns, top=(1, 30) ) ) #get top elements in column\n"
   ]
  },
  {
   "cell_type": "markdown",
   "metadata": {},
   "source": [
    "### Estaciones por plaza"
   ]
  },
  {
   "cell_type": "code",
   "execution_count": 18,
   "metadata": {},
   "outputs": [
    {
     "data": {
      "text/markdown": [
       "### Auditsa"
      ],
      "text/plain": [
       "<IPython.core.display.Markdown object>"
      ]
     },
     "metadata": {},
     "output_type": "display_data"
    },
    {
     "data": {
      "application/vnd.jupyter.widget-view+json": {
       "model_id": "0f82ca3eba04487db49d9a51ff12194f",
       "version_major": 2,
       "version_minor": 0
      },
      "text/plain": [
       "interactive(children=(Dropdown(description='plaza', options=('Monterrey', 'Puebla', 'Ciudad de México', 'Cuern…"
      ]
     },
     "metadata": {},
     "output_type": "display_data"
    }
   ],
   "source": [
    "#nbi:left\n",
    "#nbi:hide_in\n",
    "#get stations per place\n",
    "\n",
    "def stations_place( df, plaza ):\n",
    "    group_plaza_auditsa = df.groupby( 'plaza' ).get_group( plaza )\n",
    "    \n",
    "    for estacion in group_plaza_auditsa['estacion'].sort_values().unique():\n",
    "        print( estacion )\n",
    "\n",
    "idisp.display( idisp.Markdown( '### Auditsa' ) )\n",
    "        \n",
    "idisp.display( widg.interactive( stations_place, df=widg.fixed( data['auditsa'] ),\n",
    "                                 plaza=data['auditsa']['plaza'].unique() ) ) #get stations per place"
   ]
  },
  {
   "cell_type": "code",
   "execution_count": 17,
   "metadata": {},
   "outputs": [
    {
     "data": {
      "text/markdown": [
       "### Inra"
      ],
      "text/plain": [
       "<IPython.core.display.Markdown object>"
      ]
     },
     "metadata": {},
     "output_type": "display_data"
    },
    {
     "data": {
      "application/vnd.jupyter.widget-view+json": {
       "model_id": "32aa648220074c3aa300879053db6c87",
       "version_major": 2,
       "version_minor": 0
      },
      "text/plain": [
       "interactive(children=(Dropdown(description='plaza', options=('Ciudad de México', 'Monterrey', 'Guadalajara', '…"
      ]
     },
     "metadata": {},
     "output_type": "display_data"
    }
   ],
   "source": [
    "#nbi:right\n",
    "#nbi:hide_in\n",
    "\n",
    "idisp.display( idisp.Markdown( '### Inra' ) )\n",
    "\n",
    "idisp.display( widg.interactive( stations_place, df=widg.fixed( data['inra'] ),\n",
    "                                 plaza=data['inra']['plaza'].unique() ) ) #get stations per place"
   ]
  },
  {
   "cell_type": "code",
   "execution_count": null,
   "metadata": {},
   "outputs": [],
   "source": []
  },
  {
   "cell_type": "code",
   "execution_count": null,
   "metadata": {},
   "outputs": [],
   "source": []
  }
 ],
 "metadata": {
  "hide_input": false,
  "kernelspec": {
   "display_name": "Python 3",
   "language": "python",
   "name": "python3"
  },
  "language_info": {
   "codemirror_mode": {
    "name": "ipython",
    "version": 3
   },
   "file_extension": ".py",
   "mimetype": "text/x-python",
   "name": "python",
   "nbconvert_exporter": "python",
   "pygments_lexer": "ipython3",
   "version": "3.7.3"
  },
  "varInspector": {
   "cols": {
    "lenName": 16,
    "lenType": 16,
    "lenVar": 40
   },
   "kernels_config": {
    "python": {
     "delete_cmd_postfix": "",
     "delete_cmd_prefix": "del ",
     "library": "var_list.py",
     "varRefreshCmd": "print(var_dic_list())"
    },
    "r": {
     "delete_cmd_postfix": ") ",
     "delete_cmd_prefix": "rm(",
     "library": "var_list.r",
     "varRefreshCmd": "cat(var_dic_list()) "
    }
   },
   "types_to_exclude": [
    "module",
    "function",
    "builtin_function_or_method",
    "instance",
    "_Feature"
   ],
   "window_display": false
  }
 },
 "nbformat": 4,
 "nbformat_minor": 2
}
